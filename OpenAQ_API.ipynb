{
 "cells": [
  {
   "cell_type": "code",
   "execution_count": 504,
   "id": "f8f1ac56-7b49-4930-a781-4fd9c74fc1d8",
   "metadata": {
    "tags": []
   },
   "outputs": [],
   "source": [
    "import requests\n",
    "import pandas as pd\n",
    "import geopandas as gpd\n",
    "import math\n",
    "from datetime import date"
   ]
  },
  {
   "cell_type": "code",
   "execution_count": 434,
   "id": "42f0bd09-9a77-47e3-9373-18756221094a",
   "metadata": {
    "tags": []
   },
   "outputs": [],
   "source": [
    "def get_sensor_locations_in_canada( country_code = \"CA\", paramter = \"pm2.5\", limit = 1000):\n",
    "  # ISO 3166-1 alpha-2 country code for Montenegro\n",
    "\n",
    "    if(limit != 1000):\n",
    "        print(\"Warning, it's possible that this function only works with max limit 1000, and behaves weirdly otherwise\")\n",
    "        \n",
    "    url = f\"https://api.openaq.org/v2/locations?country={country_code}&parameter={parameter}&limit=1000\"#&offset=1000\"\n",
    "\n",
    "    headers = {\"accept\": \"application/json\"}\n",
    "\n",
    "    response = requests.get(url, headers=headers)\n",
    "\n",
    "    resj = response.json()\n",
    "    \n",
    "    foo = pd.DataFrame(resj['results'])\n",
    "    tot_pages = resj['meta']['found']\n",
    "    print(tot_pages)\n",
    "    div = tot_pages/limit\n",
    "    pages = math.ceil(div)\n",
    "    \n",
    "    #list_of_locations = pd.DataFrame(test['results'])\n",
    "    #tmp_frame = pd.DataFrame(test['results'])\n",
    "    \n",
    "    #list_of_locations = []\n",
    "    \n",
    "    df_raw = pd.DataFrame()\n",
    "    \n",
    "    for i in range(1, (pages+2)):\n",
    "        print(i)\n",
    "        url = f\"https://api.openaq.org/v2/locations?country={country_code}&parameter={parameter}&limit={limit}&page={i}\"\n",
    "        response2 = requests.get(url, headers=headers)\n",
    "        test = response2.json()\n",
    "        tmp_frame = pd.DataFrame(test['results'])\n",
    "        #print(tmp_frame)\n",
    "        df_raw = pd.concat([ df_raw,  tmp_frame], ignore_index = True, sort = False)\n",
    "        \n",
    "#     num_pages = 1\n",
    "#     while(len(tmp_frame) > 0): #(test['meta']['found'] + (limit*2)) > (test['meta']['limit'] * num_pages)\n",
    "        \n",
    "#         #print(test['meta']['found'],  (test['meta']['limit'] * num_pages))\n",
    "#         print(num_pages)\n",
    "#         url = f\"https://api.openaq.org/v2/locations?country={country_code}&parameter={parameter}&limit={limit}&page={num_pages}\"\n",
    "#         response = requests.get(url, headers=headers)\n",
    "#         test = response.json()\n",
    "#         tmp_frame = pd.DataFrame(test['results'])      \n",
    "#         list_of_locations = pd.concat([list_of_locations,  tmp_frame])\n",
    "#         num_pages =  num_pages + 1\n",
    "        \n",
    "        \n",
    "    return(df_raw)\n",
    "    "
   ]
  },
  {
   "cell_type": "code",
   "execution_count": 435,
   "id": "3ddf9384-ab71-4885-ac3d-1a6464f79717",
   "metadata": {
    "tags": []
   },
   "outputs": [],
   "source": [
    "locs = get_sensor_locations_in_canada()\n",
    "print(len(locs.id.unique()))\n",
    "len(locs)"
   ]
  },
  {
   "cell_type": "code",
   "execution_count": 505,
   "id": "d744ba3e-d36f-4117-986b-40be227d3f20",
   "metadata": {
    "tags": []
   },
   "outputs": [],
   "source": [
    "def get_measument_per_location(locations_id, limit = 1000):\n",
    "    \n",
    "    if(limit != 1000):\n",
    "        print(\"Warning, it's possible that this function only works with max limit 1000, and behaves weirdly otherwise\")\n",
    "        \n",
    "    url = f\"https://api.openaq.org/v2/averages?parameters_id=2&date_to=2023-09-30T00%3A00%3A00&date_from=2023-05-01T00%3A00%3A00&country=CA&locations_id={locations_id}&limit=1&page=1\"\n",
    "\n",
    "    headers = {\"accept\": \"application/json\"}\n",
    "\n",
    "    response = requests.get(url, headers=headers)\n",
    "\n",
    "    test = response.json()\n",
    "    \n",
    "    \n",
    "    #list_of_locations = pd.DataFrame(test['results'])\n",
    "    #tmp_frame = pd.DataFrame(test['results'])\n",
    "    \n",
    "    #list_of_locations = []\n",
    "    \n",
    "    df_raw = pd.DataFrame()\n",
    "    page = 1\n",
    "    while ((test['meta']['found'] != 0)):\n",
    "        #print(page)\n",
    "        url = f\"https://api.openaq.org/v2/averages?parameters_id=2&date_to=2023-09-30T00%3A00%3A00&date_from=2023-05-01T00%3A00%3A00&country=CA&locations_id={locations_id}&limit=1000&page={page}\"\n",
    "        response2 = requests.get(url, headers=headers)\n",
    "        test = response2.json()\n",
    "        \n",
    "        #print(test['meta']['found'])\n",
    "        tmp_frame = pd.DataFrame(test['results'])\n",
    "        #print(tmp_frame)\n",
    "        df_raw = pd.concat([ df_raw,  tmp_frame], ignore_index = True, sort = False)\n",
    "        page = page + 1\n",
    "        \n",
    "        \n",
    "    return(df_raw)"
   ]
  },
  {
   "cell_type": "code",
   "execution_count": 495,
   "id": "3630c3a8-ea38-49fc-ac64-a94696524a05",
   "metadata": {
    "tags": []
   },
   "outputs": [],
   "source": [
    "url = \"https://api.openaq.org/v2/averages?parameters_id=2&date_to=2023-09-30T00%3A00%3A00&date_from=2023-05-01T00%3A00%3A00&country=CA&locations_id=67077&limit=1000&page=5\"\n",
    "\n",
    "headers = {\"accept\": \"application/json\"}\n",
    "\n",
    "response = requests.get(url, headers=headers)\n",
    "\n",
    "test = response.json()\n",
    "#print(test)\n",
    "output = pd.DataFrame(test['results'])"
   ]
  },
  {
   "cell_type": "code",
   "execution_count": 496,
   "id": "14f66818-f49a-4722-bb20-7c98420b177c",
   "metadata": {
    "tags": []
   },
   "outputs": [
    {
     "data": {
      "text/plain": [
       "0"
      ]
     },
     "execution_count": 496,
     "metadata": {},
     "output_type": "execute_result"
    }
   ],
   "source": [
    "test['meta']['found']"
   ]
  },
  {
   "cell_type": "code",
   "execution_count": 506,
   "id": "aa31a200-8674-4f8a-9eef-ad6eeadc28c3",
   "metadata": {
    "tags": []
   },
   "outputs": [],
   "source": [
    "sample_df = get_measument_per_location(locations_id = \"67077\")"
   ]
  },
  {
   "cell_type": "code",
   "execution_count": null,
   "id": "5976a170-54bd-455d-b42b-75e0c77c209c",
   "metadata": {
    "tags": []
   },
   "outputs": [
    {
     "name": "stdout",
     "output_type": "stream",
     "text": [
      "Error at ID:  1147009\n",
      "'results'\n",
      "Error at ID:  224115\n",
      "'meta'\n",
      "Error at ID:  62393\n",
      "'results'\n",
      "Error at ID:  63691\n",
      "'meta'\n",
      "Error at ID:  363787\n",
      "'results'\n",
      "Error at ID:  346440\n",
      "'meta'\n"
     ]
    }
   ],
   "source": [
    "\n",
    "ids = locs.id.unique()\n",
    "\n",
    "all_measurments = pd.DataFrame()\n",
    "\n",
    "\n",
    "for n,i in enumerate(ids, start = 0):\n",
    "    try:\n",
    "        foo = get_measument_per_location(i)\n",
    "    except Exception as e:\n",
    "        print(\"Error at ID: \",i)\n",
    "        print(e)\n",
    "        continue\n",
    "    ## Extract the period between \n",
    "    all_measurments = pd.concat([all_measurments, foo])\n",
    "    #print(fires)\n",
    "        #fr_pd = pd.DataFrame(fires, columns=[\"lat\", \"lon\", \"farea\", \"data_source\"])\n",
    "    all_measurments.to_csv(\"/projects/old_shared/Smoke_over_Canada_2023/openAQ_measurements/\" + str(date.today().strftime(\"%Y%m%d\"))+  \".csv\")"
   ]
  },
  {
   "cell_type": "code",
   "execution_count": null,
   "id": "4157e4ec-52f6-4773-a2fe-243d2bcbaeea",
   "metadata": {},
   "outputs": [],
   "source": [
    "    \n",
    "    ## List of measurements\n",
    "    \n",
    "url = \"https://api.openaq.org/v2/measurements?date_from=2024-01-03T00%3A00%3A00Z&date_to=2024-01-10T15%3A53%3A00Z&limit=100&page=1&offset=0&sort=desc&radius=1000&order_by=datetime\"\n",
    "\n",
    "headers = {\"accept\": \"application/json\"}\n",
    "\n",
    "response = requests.get(url, headers=headers)\n",
    "\n",
    "print(response.text)"
   ]
  },
  {
   "cell_type": "code",
   "execution_count": 75,
   "id": "bcd56f7c-ba4b-4daf-9ded-7413c00a2081",
   "metadata": {
    "tags": []
   },
   "outputs": [
    {
     "ename": "TypeError",
     "evalue": "string indices must be integers, not 'str'",
     "output_type": "error",
     "traceback": [
      "\u001b[0;31m---------------------------------------------------------------------------\u001b[0m",
      "\u001b[0;31mTypeError\u001b[0m                                 Traceback (most recent call last)",
      "Cell \u001b[0;32mIn [75], line 11\u001b[0m\n\u001b[1;32m      8\u001b[0m response \u001b[38;5;241m=\u001b[39m requests\u001b[38;5;241m.\u001b[39mget(url, headers\u001b[38;5;241m=\u001b[39mheaders)\n\u001b[1;32m     10\u001b[0m test \u001b[38;5;241m=\u001b[39m response\u001b[38;5;241m.\u001b[39mjson()\n\u001b[0;32m---> 11\u001b[0m measurements \u001b[38;5;241m=\u001b[39m pd\u001b[38;5;241m.\u001b[39mDataFrame(test[\u001b[38;5;124m'\u001b[39m\u001b[38;5;124mresults\u001b[39m\u001b[38;5;124m'\u001b[39m])\n",
      "\u001b[0;31mTypeError\u001b[0m: string indices must be integers, not 'str'"
     ]
    }
   ],
   "source": [
    "url = \"https://api.openaq.org/v2/measurements?date_from=2023-05-01T00%3A00%3A00&date_to=2023-09-30T00%3A00%3A00&limit=7000&page=50&offset=0&sort=desc&has_geo=true&parameter_id=2&radius=1000&country=CA&order_by=datetime&entity=null\"\n",
    "\n",
    "headers = {\"accept\": \"application/json\"}\n",
    "\n",
    "response = requests.get(url, headers=headers)\n",
    "\n",
    "test = response.json()\n",
    "measurements = pd.DataFrame(test['results'])"
   ]
  },
  {
   "cell_type": "code",
   "execution_count": 437,
   "id": "e61c66e7-1bfc-4ffc-9f4a-b58875f877d7",
   "metadata": {
    "tags": []
   },
   "outputs": [],
   "source": [
    "url = \"https://api.openaq.org/v2/averages?parameters_id=2&date_to=2023-09-30T00%3A00%3A00&date_from=2023-05-01T00%3A00%3A00&country=CA&locations_id=65422&limit=1000&page=1\"\n",
    "\n",
    "headers = {\"accept\": \"application/json\"}\n",
    "\n",
    "response = requests.get(url, headers=headers)\n",
    "\n",
    "test = response.json()\n",
    "output = pd.DataFrame(test['results'])"
   ]
  },
  {
   "cell_type": "code",
   "execution_count": 439,
   "id": "ad348ef5-67d9-4525-aaec-2310fa721019",
   "metadata": {
    "tags": []
   },
   "outputs": [
    {
     "data": {
      "text/plain": [
       "array([65422])"
      ]
     },
     "execution_count": 439,
     "metadata": {},
     "output_type": "execute_result"
    }
   ],
   "source": [
    "output.id.unique()"
   ]
  },
  {
   "cell_type": "code",
   "execution_count": 97,
   "id": "37fef520-d72e-4c96-9eac-a2e53ddb0003",
   "metadata": {
    "tags": []
   },
   "outputs": [
    {
     "data": {
      "text/plain": [
       "array([1304288])"
      ]
     },
     "execution_count": 97,
     "metadata": {},
     "output_type": "execute_result"
    }
   ],
   "source": [
    "output.id.unique()"
   ]
  },
  {
   "cell_type": "code",
   "execution_count": 99,
   "id": "2694261b-eec3-44ea-9d15-fb4d7ed5d2ec",
   "metadata": {
    "tags": []
   },
   "outputs": [
    {
     "data": {
      "text/plain": [
       "{'name': 'openaq-api',\n",
       " 'license': '',\n",
       " 'website': '/',\n",
       " 'page': 1,\n",
       " 'limit': 1000,\n",
       " 'found': '>1000'}"
      ]
     },
     "execution_count": 99,
     "metadata": {},
     "output_type": "execute_result"
    }
   ],
   "source": [
    "test[\"meta\"]"
   ]
  },
  {
   "cell_type": "code",
   "execution_count": 101,
   "id": "5908fdbb-cdbd-4c27-8b89-152a275fe4fb",
   "metadata": {
    "tags": []
   },
   "outputs": [
    {
     "data": {
      "text/plain": [
       "{'detail': [{'type': 'less_than_equal',\n",
       "   'loc': ['query', 'limit'],\n",
       "   'msg': 'Input should be less than or equal to 1000',\n",
       "   'input': 2000,\n",
       "   'ctx': {'le': 1000},\n",
       "   'url': 'https://errors.pydantic.dev/2.1.2/v/less_than_equal'}]}"
      ]
     },
     "execution_count": 101,
     "metadata": {},
     "output_type": "execute_result"
    }
   ],
   "source": [
    "test"
   ]
  },
  {
   "cell_type": "code",
   "execution_count": null,
   "id": "3bbda714-3504-49ea-a96b-98b9665bf0fb",
   "metadata": {},
   "outputs": [],
   "source": []
  }
 ],
 "metadata": {
  "kernelspec": {
   "display_name": "Python (fireatlas_oct4_2)",
   "language": "python",
   "name": "fireatlas_oct4"
  },
  "language_info": {
   "codemirror_mode": {
    "name": "ipython",
    "version": 3
   },
   "file_extension": ".py",
   "mimetype": "text/x-python",
   "name": "python",
   "nbconvert_exporter": "python",
   "pygments_lexer": "ipython3",
   "version": "3.11.7"
  }
 },
 "nbformat": 4,
 "nbformat_minor": 5
}
