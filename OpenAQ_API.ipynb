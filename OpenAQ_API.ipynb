{
 "cells": [
  {
   "cell_type": "code",
   "execution_count": 133,
   "id": "f8f1ac56-7b49-4930-a781-4fd9c74fc1d8",
   "metadata": {
    "tags": []
   },
   "outputs": [],
   "source": [
    "import requests\n",
    "import pandas as pd\n",
    "import geopandas as gpd\n",
    "import math\n",
    "from datetime import date\n",
    "import datetime\n",
    "import time\n",
    "\n",
    "\n",
    "### Querying data from https://docs.openaq.org/docs/getting-started"
   ]
  },
  {
   "cell_type": "code",
   "execution_count": 252,
   "id": "42f0bd09-9a77-47e3-9373-18756221094a",
   "metadata": {
    "tags": []
   },
   "outputs": [],
   "source": [
    "def get_sensor_locations_in_canada( country_code = \"CA\", parameter = \"pm25\", limit = 1000):\n",
    "  # ISO 3166-1 alpha-2 country code for Montenegro\n",
    "\n",
    "    if(limit != 1000):\n",
    "        print(\"Warning, it's possible that this function only works with max limit 1000, and behaves weirdly otherwise\")\n",
    "        \n",
    "    #url = f\"https://api.openaq.org/v2/locations?country={country_code}&parameter={parameter}&limit=1000\"#&offset=1000\"\n",
    "    url = f\"https://api.openaq.org/v2/locations?country={country_code}&parameters_id=2&limit=1000\"#&offset=1000\"\n",
    "\n",
    "    headers = {\"accept\": \"application/json\"}\n",
    "\n",
    "    response = requests.get(url, headers=headers)\n",
    "    if(response.status_code != 200):\n",
    "        print(response.text)\n",
    "\n",
    "    resj = response.json()\n",
    "    \n",
    "    foo = pd.DataFrame(resj['results'])\n",
    "    tot_pages = resj['meta']['found']\n",
    "    print(tot_pages)\n",
    "    div = tot_pages/limit\n",
    "    pages = math.ceil(div)\n",
    "    \n",
    "    #list_of_locations = pd.DataFrame(test['results'])\n",
    "    #tmp_frame = pd.DataFrame(test['results'])\n",
    "    \n",
    "    #list_of_locations = []\n",
    "    \n",
    "    df_raw = pd.DataFrame()\n",
    "    \n",
    "    for i in range(1, (pages+2)):\n",
    "        print(i)\n",
    "        url = f\"https://api.openaq.org/v2/locations?country={country_code}&parameter={parameter}&limit={limit}&page={i}\"\n",
    "        response2 = requests.get(url, headers=headers)\n",
    "        test = response2.json()\n",
    "        tmp_frame = pd.DataFrame(test['results'])\n",
    "        #print(tmp_frame)\n",
    "        df_raw = pd.concat([ df_raw,  tmp_frame], ignore_index = True, sort = False)\n",
    "        \n",
    "#     num_pages = 1\n",
    "#     while(len(tmp_frame) > 0): #(test['meta']['found'] + (limit*2)) > (test['meta']['limit'] * num_pages)\n",
    "        \n",
    "#         #print(test['meta']['found'],  (test['meta']['limit'] * num_pages))\n",
    "#         print(num_pages)\n",
    "#         url = f\"https://api.openaq.org/v2/locations?country={country_code}&parameter={parameter}&limit={limit}&page={num_pages}\"\n",
    "#         response = requests.get(url, headers=headers)\n",
    "#         test = response.json()\n",
    "#         tmp_frame = pd.DataFrame(test['results'])      \n",
    "#         list_of_locations = pd.concat([list_of_locations,  tmp_frame])\n",
    "#         num_pages =  num_pages + 1\n",
    "        \n",
    "        \n",
    "    return(df_raw)\n",
    "\n",
    "def unpack(df, column, fillna=None):\n",
    "    ret = None\n",
    "    if fillna is None:\n",
    "        ret = pd.concat([df, pd.DataFrame((d for idx, d in df[column].items()))], axis=1)\n",
    "        del ret[column]\n",
    "    else:\n",
    "        ret = pd.concat([df, pd.DataFrame((d for idx, d in df[column].items())).fillna(fillna)], axis=1)\n",
    "        del ret[column]\n",
    "    return ret\n",
    "    "
   ]
  },
  {
   "cell_type": "code",
   "execution_count": 32,
   "id": "6cf4b4b5-3e58-4e0c-8cc2-c8bcf870b3bb",
   "metadata": {
    "tags": []
   },
   "outputs": [
    {
     "name": "stdout",
     "output_type": "stream",
     "text": [
      "2249\n"
     ]
    }
   ],
   "source": [
    "# import requests\n",
    "\n",
    "# country_code = \"CA\"\n",
    "# parameter = \"pm25\"\n",
    "\n",
    "# url = f\"https://api.openaq.org/v2/locations?country={country_code}&parameter={parameter}&limit=1000\"\n",
    "\n",
    "# headers = {\"accept\": \"application/json\"}\n",
    "\n",
    "# response = requests.get(url, headers=headers)\n",
    "\n",
    "\n",
    "# if(response.status_code != 200):\n",
    "#     print(response.text)\n",
    "\n",
    "# resj = response.json()\n",
    "\n",
    "# foo = pd.DataFrame(resj['results'])\n",
    "# tot_pages = resj['meta']['found']\n",
    "# print(tot_pages)\n"
   ]
  },
  {
   "cell_type": "code",
   "execution_count": 122,
   "id": "50807623-aefa-4c97-8745-421631b20d27",
   "metadata": {
    "tags": []
   },
   "outputs": [
    {
     "data": {
      "text/plain": [
       "0       [{'modelName': 'PurpleAir Sensor', 'manufactur...\n",
       "1       [{'modelName': 'PurpleAir Sensor', 'manufactur...\n",
       "2       [{'modelName': 'PurpleAir Sensor', 'manufactur...\n",
       "3       [{'modelName': 'PurpleAir Sensor', 'manufactur...\n",
       "4       [{'modelName': 'PurpleAir Sensor', 'manufactur...\n",
       "                              ...                        \n",
       "2244    [{'modelName': 'Government Monitor', 'manufact...\n",
       "2245    [{'modelName': 'PurpleAir Sensor', 'manufactur...\n",
       "2246    [{'modelName': 'Government Monitor', 'manufact...\n",
       "2247    [{'modelName': 'Government Monitor', 'manufact...\n",
       "2248    [{'modelName': 'Government Monitor', 'manufact...\n",
       "Name: manufacturers, Length: 2249, dtype: object"
      ]
     },
     "execution_count": 122,
     "metadata": {},
     "output_type": "execute_result"
    }
   ],
   "source": [
    "locs['manufacturers']"
   ]
  },
  {
   "cell_type": "code",
   "execution_count": 79,
   "id": "0ecd7333-16d3-4f38-ac8f-f5ca27541e2b",
   "metadata": {
    "tags": []
   },
   "outputs": [
    {
     "data": {
      "text/html": [
       "<div>\n",
       "<style scoped>\n",
       "    .dataframe tbody tr th:only-of-type {\n",
       "        vertical-align: middle;\n",
       "    }\n",
       "\n",
       "    .dataframe tbody tr th {\n",
       "        vertical-align: top;\n",
       "    }\n",
       "\n",
       "    .dataframe thead th {\n",
       "        text-align: right;\n",
       "    }\n",
       "</style>\n",
       "<table border=\"1\" class=\"dataframe\">\n",
       "  <thead>\n",
       "    <tr style=\"text-align: right;\">\n",
       "      <th></th>\n",
       "      <th>id</th>\n",
       "      <th>city</th>\n",
       "      <th>name</th>\n",
       "      <th>entity</th>\n",
       "      <th>country</th>\n",
       "      <th>sources</th>\n",
       "      <th>isMobile</th>\n",
       "      <th>isAnalysis</th>\n",
       "      <th>parameters</th>\n",
       "      <th>sensorType</th>\n",
       "      <th>lastUpdated</th>\n",
       "      <th>firstUpdated</th>\n",
       "      <th>measurements</th>\n",
       "      <th>bounds</th>\n",
       "      <th>manufacturers</th>\n",
       "      <th>latitude</th>\n",
       "      <th>longitude</th>\n",
       "    </tr>\n",
       "  </thead>\n",
       "  <tbody>\n",
       "    <tr>\n",
       "      <th>0</th>\n",
       "      <td>62192</td>\n",
       "      <td>None</td>\n",
       "      <td>West Sechelt</td>\n",
       "      <td>None</td>\n",
       "      <td>CA</td>\n",
       "      <td>None</td>\n",
       "      <td>False</td>\n",
       "      <td>None</td>\n",
       "      <td>[{'id': 19, 'unit': 'µg/m³', 'count': 112911, ...</td>\n",
       "      <td>None</td>\n",
       "      <td>2024-01-29T19:43:36+00:00</td>\n",
       "      <td>2023-05-08T00:03:04+00:00</td>\n",
       "      <td>975960</td>\n",
       "      <td>[-123.80239, 49.476894, -123.80239, 49.476894]</td>\n",
       "      <td>[{'modelName': 'PurpleAir Sensor', 'manufactur...</td>\n",
       "      <td>49.476894</td>\n",
       "      <td>-123.802390</td>\n",
       "    </tr>\n",
       "    <tr>\n",
       "      <th>1</th>\n",
       "      <td>1930620</td>\n",
       "      <td>None</td>\n",
       "      <td>Laverna’s house</td>\n",
       "      <td>None</td>\n",
       "      <td>CA</td>\n",
       "      <td>None</td>\n",
       "      <td>False</td>\n",
       "      <td>None</td>\n",
       "      <td>[{'id': 134, 'unit': '%', 'count': 17100, 'ave...</td>\n",
       "      <td>None</td>\n",
       "      <td>2024-01-29T19:43:36+00:00</td>\n",
       "      <td>2023-12-07T16:14:26+00:00</td>\n",
       "      <td>205353</td>\n",
       "      <td>[-117.77842, 70.73749, -117.77842, 70.73749]</td>\n",
       "      <td>[{'modelName': 'N/A', 'manufacturerName': 'Ope...</td>\n",
       "      <td>70.737490</td>\n",
       "      <td>-117.778420</td>\n",
       "    </tr>\n",
       "    <tr>\n",
       "      <th>2</th>\n",
       "      <td>69721</td>\n",
       "      <td>None</td>\n",
       "      <td>AQSU-D333</td>\n",
       "      <td>None</td>\n",
       "      <td>CA</td>\n",
       "      <td>None</td>\n",
       "      <td>False</td>\n",
       "      <td>None</td>\n",
       "      <td>[{'id': 129, 'unit': 'particles/cm³', 'count':...</td>\n",
       "      <td>None</td>\n",
       "      <td>2024-01-29T19:43:36+00:00</td>\n",
       "      <td>2021-01-14T01:18:42+00:00</td>\n",
       "      <td>3590604</td>\n",
       "      <td>[-122.790115, 53.97476, -122.790115, 53.97476]</td>\n",
       "      <td>[{'modelName': 'PurpleAir Sensor', 'manufactur...</td>\n",
       "      <td>53.974760</td>\n",
       "      <td>-122.790115</td>\n",
       "    </tr>\n",
       "    <tr>\n",
       "      <th>3</th>\n",
       "      <td>1111201</td>\n",
       "      <td>None</td>\n",
       "      <td>2305W7thAve-Outdoor</td>\n",
       "      <td>None</td>\n",
       "      <td>CA</td>\n",
       "      <td>None</td>\n",
       "      <td>False</td>\n",
       "      <td>None</td>\n",
       "      <td>[{'id': 133, 'unit': 'particles/cm³', 'count':...</td>\n",
       "      <td>None</td>\n",
       "      <td>2024-01-29T19:43:36+00:00</td>\n",
       "      <td>2023-05-29T05:52:39+00:00</td>\n",
       "      <td>1102752</td>\n",
       "      <td>[-123.15778, 49.26589, -123.15778, 49.26589]</td>\n",
       "      <td>[{'modelName': 'PurpleAir Sensor', 'manufactur...</td>\n",
       "      <td>49.265890</td>\n",
       "      <td>-123.157780</td>\n",
       "    </tr>\n",
       "    <tr>\n",
       "      <th>4</th>\n",
       "      <td>65764</td>\n",
       "      <td>None</td>\n",
       "      <td>Kunut ave</td>\n",
       "      <td>None</td>\n",
       "      <td>CA</td>\n",
       "      <td>None</td>\n",
       "      <td>False</td>\n",
       "      <td>None</td>\n",
       "      <td>[{'id': 134, 'unit': '%', 'count': 94101, 'ave...</td>\n",
       "      <td>None</td>\n",
       "      <td>2024-01-29T19:43:36+00:00</td>\n",
       "      <td>2021-01-19T23:58:24+00:00</td>\n",
       "      <td>3334830</td>\n",
       "      <td>[-123.75254, 49.48409, -123.75254, 49.48409]</td>\n",
       "      <td>[{'modelName': 'PurpleAir Sensor', 'manufactur...</td>\n",
       "      <td>49.484090</td>\n",
       "      <td>-123.752540</td>\n",
       "    </tr>\n",
       "    <tr>\n",
       "      <th>...</th>\n",
       "      <td>...</td>\n",
       "      <td>...</td>\n",
       "      <td>...</td>\n",
       "      <td>...</td>\n",
       "      <td>...</td>\n",
       "      <td>...</td>\n",
       "      <td>...</td>\n",
       "      <td>...</td>\n",
       "      <td>...</td>\n",
       "      <td>...</td>\n",
       "      <td>...</td>\n",
       "      <td>...</td>\n",
       "      <td>...</td>\n",
       "      <td>...</td>\n",
       "      <td>...</td>\n",
       "      <td>...</td>\n",
       "      <td>...</td>\n",
       "    </tr>\n",
       "    <tr>\n",
       "      <th>2244</th>\n",
       "      <td>6138</td>\n",
       "      <td>None</td>\n",
       "      <td>PittsfieldES</td>\n",
       "      <td>None</td>\n",
       "      <td>CA</td>\n",
       "      <td>None</td>\n",
       "      <td>False</td>\n",
       "      <td>None</td>\n",
       "      <td>[{'id': 2, 'unit': 'µg/m³', 'count': 1387, 'av...</td>\n",
       "      <td>None</td>\n",
       "      <td>2018-11-02T12:00:00+00:00</td>\n",
       "      <td>2018-08-02T13:00:00+00:00</td>\n",
       "      <td>2436</td>\n",
       "      <td>[-73.240116, 45.452318, -73.240116, 45.452318]</td>\n",
       "      <td>[{'modelName': 'Government Monitor', 'manufact...</td>\n",
       "      <td>45.452318</td>\n",
       "      <td>-73.240116</td>\n",
       "    </tr>\n",
       "    <tr>\n",
       "      <th>2245</th>\n",
       "      <td>1141358</td>\n",
       "      <td>None</td>\n",
       "      <td>Back Yard</td>\n",
       "      <td>None</td>\n",
       "      <td>CA</td>\n",
       "      <td>None</td>\n",
       "      <td>False</td>\n",
       "      <td>None</td>\n",
       "      <td>[{'id': 135, 'unit': 'particles/cm³', 'count':...</td>\n",
       "      <td>None</td>\n",
       "      <td>2018-05-23T22:25:32+00:00</td>\n",
       "      <td>2018-05-23T22:25:32+00:00</td>\n",
       "      <td>12</td>\n",
       "      <td>[-80.28766, 43.529453, -80.28766, 43.529453]</td>\n",
       "      <td>[{'modelName': 'PurpleAir Sensor', 'manufactur...</td>\n",
       "      <td>43.529453</td>\n",
       "      <td>-80.287660</td>\n",
       "    </tr>\n",
       "    <tr>\n",
       "      <th>2246</th>\n",
       "      <td>1065</td>\n",
       "      <td>None</td>\n",
       "      <td>Powell River Wildwoo</td>\n",
       "      <td>None</td>\n",
       "      <td>CA</td>\n",
       "      <td>None</td>\n",
       "      <td>False</td>\n",
       "      <td>None</td>\n",
       "      <td>[{'id': 2, 'unit': 'µg/m³', 'count': 12153, 'a...</td>\n",
       "      <td>None</td>\n",
       "      <td>2018-01-31T14:00:00+00:00</td>\n",
       "      <td>2016-03-06T19:00:00+00:00</td>\n",
       "      <td>24405</td>\n",
       "      <td>[-124.5583, 49.8875, -124.5583, 49.8875]</td>\n",
       "      <td>[{'modelName': 'Government Monitor', 'manufact...</td>\n",
       "      <td>49.887500</td>\n",
       "      <td>-124.558300</td>\n",
       "    </tr>\n",
       "    <tr>\n",
       "      <th>2247</th>\n",
       "      <td>754</td>\n",
       "      <td>None</td>\n",
       "      <td>FREDERICTON</td>\n",
       "      <td>None</td>\n",
       "      <td>CA</td>\n",
       "      <td>None</td>\n",
       "      <td>False</td>\n",
       "      <td>None</td>\n",
       "      <td>[{'id': 2, 'unit': 'µg/m³', 'count': 6386, 'av...</td>\n",
       "      <td>None</td>\n",
       "      <td>2017-03-30T16:00:00+00:00</td>\n",
       "      <td>2016-03-06T19:00:00+00:00</td>\n",
       "      <td>19385</td>\n",
       "      <td>[-66.6475, 45.9578, -66.6475, 45.9578]</td>\n",
       "      <td>[{'modelName': 'Government Monitor', 'manufact...</td>\n",
       "      <td>45.957800</td>\n",
       "      <td>-66.647500</td>\n",
       "    </tr>\n",
       "    <tr>\n",
       "      <th>2248</th>\n",
       "      <td>529</td>\n",
       "      <td>None</td>\n",
       "      <td>Molson</td>\n",
       "      <td>None</td>\n",
       "      <td>CA</td>\n",
       "      <td>None</td>\n",
       "      <td>False</td>\n",
       "      <td>None</td>\n",
       "      <td>[{'id': 2, 'unit': 'µg/m³', 'count': 135, 'ave...</td>\n",
       "      <td>None</td>\n",
       "      <td>2016-06-09T19:00:00+00:00</td>\n",
       "      <td>2016-03-10T07:00:00+00:00</td>\n",
       "      <td>403</td>\n",
       "      <td>[-73.57176, 45.54271, -73.57176, 45.54271]</td>\n",
       "      <td>[{'modelName': 'Government Monitor', 'manufact...</td>\n",
       "      <td>45.542710</td>\n",
       "      <td>-73.571760</td>\n",
       "    </tr>\n",
       "  </tbody>\n",
       "</table>\n",
       "<p>2249 rows × 17 columns</p>\n",
       "</div>"
      ],
      "text/plain": [
       "           id  city                  name entity country sources  isMobile  \\\n",
       "0       62192  None          West Sechelt   None      CA    None     False   \n",
       "1     1930620  None       Laverna’s house   None      CA    None     False   \n",
       "2       69721  None             AQSU-D333   None      CA    None     False   \n",
       "3     1111201  None   2305W7thAve-Outdoor   None      CA    None     False   \n",
       "4       65764  None             Kunut ave   None      CA    None     False   \n",
       "...       ...   ...                   ...    ...     ...     ...       ...   \n",
       "2244     6138  None          PittsfieldES   None      CA    None     False   \n",
       "2245  1141358  None             Back Yard   None      CA    None     False   \n",
       "2246     1065  None  Powell River Wildwoo   None      CA    None     False   \n",
       "2247      754  None           FREDERICTON   None      CA    None     False   \n",
       "2248      529  None                Molson   None      CA    None     False   \n",
       "\n",
       "     isAnalysis                                         parameters sensorType  \\\n",
       "0          None  [{'id': 19, 'unit': 'µg/m³', 'count': 112911, ...       None   \n",
       "1          None  [{'id': 134, 'unit': '%', 'count': 17100, 'ave...       None   \n",
       "2          None  [{'id': 129, 'unit': 'particles/cm³', 'count':...       None   \n",
       "3          None  [{'id': 133, 'unit': 'particles/cm³', 'count':...       None   \n",
       "4          None  [{'id': 134, 'unit': '%', 'count': 94101, 'ave...       None   \n",
       "...         ...                                                ...        ...   \n",
       "2244       None  [{'id': 2, 'unit': 'µg/m³', 'count': 1387, 'av...       None   \n",
       "2245       None  [{'id': 135, 'unit': 'particles/cm³', 'count':...       None   \n",
       "2246       None  [{'id': 2, 'unit': 'µg/m³', 'count': 12153, 'a...       None   \n",
       "2247       None  [{'id': 2, 'unit': 'µg/m³', 'count': 6386, 'av...       None   \n",
       "2248       None  [{'id': 2, 'unit': 'µg/m³', 'count': 135, 'ave...       None   \n",
       "\n",
       "                    lastUpdated               firstUpdated  measurements  \\\n",
       "0     2024-01-29T19:43:36+00:00  2023-05-08T00:03:04+00:00        975960   \n",
       "1     2024-01-29T19:43:36+00:00  2023-12-07T16:14:26+00:00        205353   \n",
       "2     2024-01-29T19:43:36+00:00  2021-01-14T01:18:42+00:00       3590604   \n",
       "3     2024-01-29T19:43:36+00:00  2023-05-29T05:52:39+00:00       1102752   \n",
       "4     2024-01-29T19:43:36+00:00  2021-01-19T23:58:24+00:00       3334830   \n",
       "...                         ...                        ...           ...   \n",
       "2244  2018-11-02T12:00:00+00:00  2018-08-02T13:00:00+00:00          2436   \n",
       "2245  2018-05-23T22:25:32+00:00  2018-05-23T22:25:32+00:00            12   \n",
       "2246  2018-01-31T14:00:00+00:00  2016-03-06T19:00:00+00:00         24405   \n",
       "2247  2017-03-30T16:00:00+00:00  2016-03-06T19:00:00+00:00         19385   \n",
       "2248  2016-06-09T19:00:00+00:00  2016-03-10T07:00:00+00:00           403   \n",
       "\n",
       "                                              bounds  \\\n",
       "0     [-123.80239, 49.476894, -123.80239, 49.476894]   \n",
       "1       [-117.77842, 70.73749, -117.77842, 70.73749]   \n",
       "2     [-122.790115, 53.97476, -122.790115, 53.97476]   \n",
       "3       [-123.15778, 49.26589, -123.15778, 49.26589]   \n",
       "4       [-123.75254, 49.48409, -123.75254, 49.48409]   \n",
       "...                                              ...   \n",
       "2244  [-73.240116, 45.452318, -73.240116, 45.452318]   \n",
       "2245    [-80.28766, 43.529453, -80.28766, 43.529453]   \n",
       "2246        [-124.5583, 49.8875, -124.5583, 49.8875]   \n",
       "2247          [-66.6475, 45.9578, -66.6475, 45.9578]   \n",
       "2248      [-73.57176, 45.54271, -73.57176, 45.54271]   \n",
       "\n",
       "                                          manufacturers   latitude   longitude  \n",
       "0     [{'modelName': 'PurpleAir Sensor', 'manufactur...  49.476894 -123.802390  \n",
       "1     [{'modelName': 'N/A', 'manufacturerName': 'Ope...  70.737490 -117.778420  \n",
       "2     [{'modelName': 'PurpleAir Sensor', 'manufactur...  53.974760 -122.790115  \n",
       "3     [{'modelName': 'PurpleAir Sensor', 'manufactur...  49.265890 -123.157780  \n",
       "4     [{'modelName': 'PurpleAir Sensor', 'manufactur...  49.484090 -123.752540  \n",
       "...                                                 ...        ...         ...  \n",
       "2244  [{'modelName': 'Government Monitor', 'manufact...  45.452318  -73.240116  \n",
       "2245  [{'modelName': 'PurpleAir Sensor', 'manufactur...  43.529453  -80.287660  \n",
       "2246  [{'modelName': 'Government Monitor', 'manufact...  49.887500 -124.558300  \n",
       "2247  [{'modelName': 'Government Monitor', 'manufact...  45.957800  -66.647500  \n",
       "2248  [{'modelName': 'Government Monitor', 'manufact...  45.542710  -73.571760  \n",
       "\n",
       "[2249 rows x 17 columns]"
      ]
     },
     "execution_count": 79,
     "metadata": {},
     "output_type": "execute_result"
    }
   ],
   "source": [
    "\n",
    "\n",
    "unpack(locs, 'coordinates')"
   ]
  },
  {
   "cell_type": "code",
   "execution_count": 104,
   "id": "83e8715f-4e82-4b56-823b-df3b84ce2a19",
   "metadata": {
    "tags": []
   },
   "outputs": [
    {
     "data": {
      "text/plain": [
       "[{'modelName': 'PurpleAir Sensor', 'manufacturerName': 'PurpleAir'}]"
      ]
     },
     "execution_count": 104,
     "metadata": {},
     "output_type": "execute_result"
    }
   ],
   "source": [
    "locs.manufacturers.iloc[0]"
   ]
  },
  {
   "cell_type": "code",
   "execution_count": 101,
   "id": "cacb47d9-fd82-4567-962f-1ed0a0315d58",
   "metadata": {
    "tags": []
   },
   "outputs": [],
   "source": [
    "locs = get_sensor_locations_in_canada()\n",
    "print(len(locs.id.unique()))"
   ]
  },
  {
   "cell_type": "code",
   "execution_count": 229,
   "id": "a2b53d3e-1405-4bbb-9b01-d51f40b0c3fd",
   "metadata": {
    "tags": []
   },
   "outputs": [],
   "source": [
    "### Find number of IDS in the time range. (Not actually sure how strict the querying is, it might not drop IDS based on if they only partially overlap. Need to check). \n",
    "\n",
    "#2023-09-30T00%3A00%3A00&date_from=2023-05-01T00%3A00%3A00\n",
    "\n",
    "#start_time = datetime.datetime.strptime(\"2023-05-01 00:00:00\", \"%Y-%m-%d %H:%M:%S\")\n",
    "#end_time = datetime.datetime.strptime(\"2023-09-30 00:00:00\", \"%Y-%m-%d %H:%M:%S\")\n",
    "start_time = \"2023-05-01 00:00:00+00:00\"\n",
    "end_time = \"2023-09-30 00:00:00+00:00\"\n",
    "\n",
    "\n",
    "\n",
    "\n",
    "len(locs[(locs.firstUpdated.astype('datetime64[ns, UTC]') <= start_time) & (locs.lastUpdated.astype('datetime64[ns, UTC]') >= end_time)].id.unique())\n",
    "\n",
    "locs_time = locs[(locs.firstUpdated.astype('datetime64[ns, UTC]') <= start_time) & (locs.lastUpdated.astype('datetime64[ns, UTC]') >= end_time)]"
   ]
  },
  {
   "cell_type": "code",
   "execution_count": 254,
   "id": "fd3c91d7-97d9-4673-8de9-ab8fc8545d20",
   "metadata": {
    "tags": []
   },
   "outputs": [
    {
     "name": "stdout",
     "output_type": "stream",
     "text": [
      "2329\n",
      "1\n",
      "2\n",
      "3\n",
      "4\n"
     ]
    }
   ],
   "source": [
    "locs3 = get_sensor_locations_in_canada()\n",
    "\n",
    "locs_time3 = locs3[(locs3.firstUpdated.astype('datetime64[ns, UTC]') <= start_time) & (locs3.lastUpdated.astype('datetime64[ns, UTC]') >= end_time)]"
   ]
  },
  {
   "cell_type": "code",
   "execution_count": 146,
   "id": "177924fd-cd47-4d6e-a540-097704bc341a",
   "metadata": {
    "tags": []
   },
   "outputs": [
    {
     "data": {
      "text/html": [
       "<div>\n",
       "<style scoped>\n",
       "    .dataframe tbody tr th:only-of-type {\n",
       "        vertical-align: middle;\n",
       "    }\n",
       "\n",
       "    .dataframe tbody tr th {\n",
       "        vertical-align: top;\n",
       "    }\n",
       "\n",
       "    .dataframe thead th {\n",
       "        text-align: right;\n",
       "    }\n",
       "</style>\n",
       "<table border=\"1\" class=\"dataframe\">\n",
       "  <thead>\n",
       "    <tr style=\"text-align: right;\">\n",
       "      <th></th>\n",
       "      <th>id</th>\n",
       "      <th>city</th>\n",
       "      <th>name</th>\n",
       "      <th>entity</th>\n",
       "      <th>country</th>\n",
       "      <th>sources</th>\n",
       "      <th>isMobile</th>\n",
       "      <th>isAnalysis</th>\n",
       "      <th>parameters</th>\n",
       "      <th>sensorType</th>\n",
       "      <th>coordinates</th>\n",
       "      <th>lastUpdated</th>\n",
       "      <th>firstUpdated</th>\n",
       "      <th>measurements</th>\n",
       "      <th>bounds</th>\n",
       "      <th>manufacturers</th>\n",
       "    </tr>\n",
       "  </thead>\n",
       "  <tbody>\n",
       "    <tr>\n",
       "      <th>0</th>\n",
       "      <td>62016</td>\n",
       "      <td>None</td>\n",
       "      <td>ACA_LaurierHeightsCL</td>\n",
       "      <td>None</td>\n",
       "      <td>CA</td>\n",
       "      <td>None</td>\n",
       "      <td>False</td>\n",
       "      <td>None</td>\n",
       "      <td>[{'id': 126, 'unit': 'particles/cm³', 'count':...</td>\n",
       "      <td>None</td>\n",
       "      <td>{'latitude': 53.517036, 'longitude': -113.56852}</td>\n",
       "      <td>2024-01-29T20:34:03+00:00</td>\n",
       "      <td>2021-01-20T00:04:07+00:00</td>\n",
       "      <td>1933308</td>\n",
       "      <td>[-113.56852, 53.517036, -113.56852, 53.517036]</td>\n",
       "      <td>[{'modelName': 'PurpleAir Sensor', 'manufactur...</td>\n",
       "    </tr>\n",
       "    <tr>\n",
       "      <th>1</th>\n",
       "      <td>270443</td>\n",
       "      <td>None</td>\n",
       "      <td>Didsbury 2</td>\n",
       "      <td>None</td>\n",
       "      <td>CA</td>\n",
       "      <td>None</td>\n",
       "      <td>False</td>\n",
       "      <td>None</td>\n",
       "      <td>[{'id': 130, 'unit': 'particles/cm³', 'count':...</td>\n",
       "      <td>None</td>\n",
       "      <td>{'latitude': 51.654808, 'longitude': -114.140076}</td>\n",
       "      <td>2024-01-29T20:34:03+00:00</td>\n",
       "      <td>2021-10-27T22:02:46+00:00</td>\n",
       "      <td>2528334</td>\n",
       "      <td>[-114.140076, 51.654808, -114.140076, 51.654808]</td>\n",
       "      <td>[{'modelName': 'PurpleAir Sensor', 'manufactur...</td>\n",
       "    </tr>\n",
       "    <tr>\n",
       "      <th>2</th>\n",
       "      <td>926610</td>\n",
       "      <td>None</td>\n",
       "      <td>Crowsnest1_AEP</td>\n",
       "      <td>None</td>\n",
       "      <td>CA</td>\n",
       "      <td>None</td>\n",
       "      <td>False</td>\n",
       "      <td>None</td>\n",
       "      <td>[{'id': 132, 'unit': 'mb', 'count': 53651, 'av...</td>\n",
       "      <td>None</td>\n",
       "      <td>{'latitude': 49.54992, 'longitude': -114.288376}</td>\n",
       "      <td>2024-01-29T20:34:03+00:00</td>\n",
       "      <td>2023-05-17T17:36:46+00:00</td>\n",
       "      <td>667152</td>\n",
       "      <td>[-114.288376, 49.54992, -114.288376, 49.54992]</td>\n",
       "      <td>[{'modelName': 'PurpleAir Sensor', 'manufactur...</td>\n",
       "    </tr>\n",
       "    <tr>\n",
       "      <th>3</th>\n",
       "      <td>635657</td>\n",
       "      <td>None</td>\n",
       "      <td>WCAS_Whitecourt Hilltop(AQSU-BF67)</td>\n",
       "      <td>None</td>\n",
       "      <td>CA</td>\n",
       "      <td>None</td>\n",
       "      <td>False</td>\n",
       "      <td>None</td>\n",
       "      <td>[{'id': 1, 'unit': 'µg/m³', 'count': 17678, 'a...</td>\n",
       "      <td>None</td>\n",
       "      <td>{'latitude': 54.1259, 'longitude': -115.66987}</td>\n",
       "      <td>2024-01-29T20:34:03+00:00</td>\n",
       "      <td>2023-04-04T20:01:47+00:00</td>\n",
       "      <td>196806</td>\n",
       "      <td>[-115.66987, 54.1259, -115.66987, 54.1259]</td>\n",
       "      <td>[{'modelName': 'PurpleAir Sensor', 'manufactur...</td>\n",
       "    </tr>\n",
       "    <tr>\n",
       "      <th>4</th>\n",
       "      <td>635599</td>\n",
       "      <td>None</td>\n",
       "      <td>ACA_BPAC (AQSU-6FE5)</td>\n",
       "      <td>None</td>\n",
       "      <td>CA</td>\n",
       "      <td>None</td>\n",
       "      <td>False</td>\n",
       "      <td>None</td>\n",
       "      <td>[{'id': 125, 'unit': 'particles/cm³', 'count':...</td>\n",
       "      <td>None</td>\n",
       "      <td>{'latitude': 53.549248, 'longitude': -113.939095}</td>\n",
       "      <td>2024-01-29T20:34:03+00:00</td>\n",
       "      <td>2023-04-04T20:01:51+00:00</td>\n",
       "      <td>29214</td>\n",
       "      <td>[-113.939095, 53.549248, -113.939095, 53.549248]</td>\n",
       "      <td>[{'modelName': 'PurpleAir Sensor', 'manufactur...</td>\n",
       "    </tr>\n",
       "    <tr>\n",
       "      <th>...</th>\n",
       "      <td>...</td>\n",
       "      <td>...</td>\n",
       "      <td>...</td>\n",
       "      <td>...</td>\n",
       "      <td>...</td>\n",
       "      <td>...</td>\n",
       "      <td>...</td>\n",
       "      <td>...</td>\n",
       "      <td>...</td>\n",
       "      <td>...</td>\n",
       "      <td>...</td>\n",
       "      <td>...</td>\n",
       "      <td>...</td>\n",
       "      <td>...</td>\n",
       "      <td>...</td>\n",
       "      <td>...</td>\n",
       "    </tr>\n",
       "    <tr>\n",
       "      <th>2244</th>\n",
       "      <td>6138</td>\n",
       "      <td>None</td>\n",
       "      <td>PittsfieldES</td>\n",
       "      <td>None</td>\n",
       "      <td>CA</td>\n",
       "      <td>None</td>\n",
       "      <td>False</td>\n",
       "      <td>None</td>\n",
       "      <td>[{'id': 10, 'unit': 'ppm', 'count': 1049, 'ave...</td>\n",
       "      <td>None</td>\n",
       "      <td>{'latitude': 45.452318, 'longitude': -73.240116}</td>\n",
       "      <td>2018-11-02T12:00:00+00:00</td>\n",
       "      <td>2018-08-02T13:00:00+00:00</td>\n",
       "      <td>2436</td>\n",
       "      <td>[-73.240116, 45.452318, -73.240116, 45.452318]</td>\n",
       "      <td>[{'modelName': 'Government Monitor', 'manufact...</td>\n",
       "    </tr>\n",
       "    <tr>\n",
       "      <th>2245</th>\n",
       "      <td>1141358</td>\n",
       "      <td>None</td>\n",
       "      <td>Back Yard</td>\n",
       "      <td>None</td>\n",
       "      <td>CA</td>\n",
       "      <td>None</td>\n",
       "      <td>False</td>\n",
       "      <td>None</td>\n",
       "      <td>[{'id': 132, 'unit': 'mb', 'count': 1, 'averag...</td>\n",
       "      <td>None</td>\n",
       "      <td>{'latitude': 43.529453, 'longitude': -80.28766}</td>\n",
       "      <td>2018-05-23T22:25:32+00:00</td>\n",
       "      <td>2018-05-23T22:25:32+00:00</td>\n",
       "      <td>12</td>\n",
       "      <td>[-80.28766, 43.529453, -80.28766, 43.529453]</td>\n",
       "      <td>[{'modelName': 'PurpleAir Sensor', 'manufactur...</td>\n",
       "    </tr>\n",
       "    <tr>\n",
       "      <th>2246</th>\n",
       "      <td>1065</td>\n",
       "      <td>None</td>\n",
       "      <td>Powell River Wildwoo</td>\n",
       "      <td>None</td>\n",
       "      <td>CA</td>\n",
       "      <td>None</td>\n",
       "      <td>False</td>\n",
       "      <td>None</td>\n",
       "      <td>[{'id': 2, 'unit': 'µg/m³', 'count': 12153, 'a...</td>\n",
       "      <td>None</td>\n",
       "      <td>{'latitude': 49.8875, 'longitude': -124.5583}</td>\n",
       "      <td>2018-01-31T14:00:00+00:00</td>\n",
       "      <td>2016-03-06T19:00:00+00:00</td>\n",
       "      <td>24405</td>\n",
       "      <td>[-124.5583, 49.8875, -124.5583, 49.8875]</td>\n",
       "      <td>[{'modelName': 'Government Monitor', 'manufact...</td>\n",
       "    </tr>\n",
       "    <tr>\n",
       "      <th>2247</th>\n",
       "      <td>754</td>\n",
       "      <td>None</td>\n",
       "      <td>FREDERICTON</td>\n",
       "      <td>None</td>\n",
       "      <td>CA</td>\n",
       "      <td>None</td>\n",
       "      <td>False</td>\n",
       "      <td>None</td>\n",
       "      <td>[{'id': 2, 'unit': 'µg/m³', 'count': 6386, 'av...</td>\n",
       "      <td>None</td>\n",
       "      <td>{'latitude': 45.9578, 'longitude': -66.6475}</td>\n",
       "      <td>2017-03-30T16:00:00+00:00</td>\n",
       "      <td>2016-03-06T19:00:00+00:00</td>\n",
       "      <td>19385</td>\n",
       "      <td>[-66.6475, 45.9578, -66.6475, 45.9578]</td>\n",
       "      <td>[{'modelName': 'Government Monitor', 'manufact...</td>\n",
       "    </tr>\n",
       "    <tr>\n",
       "      <th>2248</th>\n",
       "      <td>529</td>\n",
       "      <td>None</td>\n",
       "      <td>Molson</td>\n",
       "      <td>None</td>\n",
       "      <td>CA</td>\n",
       "      <td>None</td>\n",
       "      <td>False</td>\n",
       "      <td>None</td>\n",
       "      <td>[{'id': 7, 'unit': 'ppm', 'count': 135, 'avera...</td>\n",
       "      <td>None</td>\n",
       "      <td>{'latitude': 45.54271, 'longitude': -73.57176}</td>\n",
       "      <td>2016-06-09T19:00:00+00:00</td>\n",
       "      <td>2016-03-10T07:00:00+00:00</td>\n",
       "      <td>403</td>\n",
       "      <td>[-73.57176, 45.54271, -73.57176, 45.54271]</td>\n",
       "      <td>[{'modelName': 'Government Monitor', 'manufact...</td>\n",
       "    </tr>\n",
       "  </tbody>\n",
       "</table>\n",
       "<p>2249 rows × 16 columns</p>\n",
       "</div>"
      ],
      "text/plain": [
       "           id  city                                name entity country  \\\n",
       "0       62016  None                ACA_LaurierHeightsCL   None      CA   \n",
       "1      270443  None                          Didsbury 2   None      CA   \n",
       "2      926610  None                      Crowsnest1_AEP   None      CA   \n",
       "3      635657  None  WCAS_Whitecourt Hilltop(AQSU-BF67)   None      CA   \n",
       "4      635599  None                ACA_BPAC (AQSU-6FE5)   None      CA   \n",
       "...       ...   ...                                 ...    ...     ...   \n",
       "2244     6138  None                        PittsfieldES   None      CA   \n",
       "2245  1141358  None                           Back Yard   None      CA   \n",
       "2246     1065  None                Powell River Wildwoo   None      CA   \n",
       "2247      754  None                         FREDERICTON   None      CA   \n",
       "2248      529  None                              Molson   None      CA   \n",
       "\n",
       "     sources  isMobile isAnalysis  \\\n",
       "0       None     False       None   \n",
       "1       None     False       None   \n",
       "2       None     False       None   \n",
       "3       None     False       None   \n",
       "4       None     False       None   \n",
       "...      ...       ...        ...   \n",
       "2244    None     False       None   \n",
       "2245    None     False       None   \n",
       "2246    None     False       None   \n",
       "2247    None     False       None   \n",
       "2248    None     False       None   \n",
       "\n",
       "                                             parameters sensorType  \\\n",
       "0     [{'id': 126, 'unit': 'particles/cm³', 'count':...       None   \n",
       "1     [{'id': 130, 'unit': 'particles/cm³', 'count':...       None   \n",
       "2     [{'id': 132, 'unit': 'mb', 'count': 53651, 'av...       None   \n",
       "3     [{'id': 1, 'unit': 'µg/m³', 'count': 17678, 'a...       None   \n",
       "4     [{'id': 125, 'unit': 'particles/cm³', 'count':...       None   \n",
       "...                                                 ...        ...   \n",
       "2244  [{'id': 10, 'unit': 'ppm', 'count': 1049, 'ave...       None   \n",
       "2245  [{'id': 132, 'unit': 'mb', 'count': 1, 'averag...       None   \n",
       "2246  [{'id': 2, 'unit': 'µg/m³', 'count': 12153, 'a...       None   \n",
       "2247  [{'id': 2, 'unit': 'µg/m³', 'count': 6386, 'av...       None   \n",
       "2248  [{'id': 7, 'unit': 'ppm', 'count': 135, 'avera...       None   \n",
       "\n",
       "                                            coordinates  \\\n",
       "0      {'latitude': 53.517036, 'longitude': -113.56852}   \n",
       "1     {'latitude': 51.654808, 'longitude': -114.140076}   \n",
       "2      {'latitude': 49.54992, 'longitude': -114.288376}   \n",
       "3        {'latitude': 54.1259, 'longitude': -115.66987}   \n",
       "4     {'latitude': 53.549248, 'longitude': -113.939095}   \n",
       "...                                                 ...   \n",
       "2244   {'latitude': 45.452318, 'longitude': -73.240116}   \n",
       "2245    {'latitude': 43.529453, 'longitude': -80.28766}   \n",
       "2246      {'latitude': 49.8875, 'longitude': -124.5583}   \n",
       "2247       {'latitude': 45.9578, 'longitude': -66.6475}   \n",
       "2248     {'latitude': 45.54271, 'longitude': -73.57176}   \n",
       "\n",
       "                    lastUpdated               firstUpdated  measurements  \\\n",
       "0     2024-01-29T20:34:03+00:00  2021-01-20T00:04:07+00:00       1933308   \n",
       "1     2024-01-29T20:34:03+00:00  2021-10-27T22:02:46+00:00       2528334   \n",
       "2     2024-01-29T20:34:03+00:00  2023-05-17T17:36:46+00:00        667152   \n",
       "3     2024-01-29T20:34:03+00:00  2023-04-04T20:01:47+00:00        196806   \n",
       "4     2024-01-29T20:34:03+00:00  2023-04-04T20:01:51+00:00         29214   \n",
       "...                         ...                        ...           ...   \n",
       "2244  2018-11-02T12:00:00+00:00  2018-08-02T13:00:00+00:00          2436   \n",
       "2245  2018-05-23T22:25:32+00:00  2018-05-23T22:25:32+00:00            12   \n",
       "2246  2018-01-31T14:00:00+00:00  2016-03-06T19:00:00+00:00         24405   \n",
       "2247  2017-03-30T16:00:00+00:00  2016-03-06T19:00:00+00:00         19385   \n",
       "2248  2016-06-09T19:00:00+00:00  2016-03-10T07:00:00+00:00           403   \n",
       "\n",
       "                                                bounds  \\\n",
       "0       [-113.56852, 53.517036, -113.56852, 53.517036]   \n",
       "1     [-114.140076, 51.654808, -114.140076, 51.654808]   \n",
       "2       [-114.288376, 49.54992, -114.288376, 49.54992]   \n",
       "3           [-115.66987, 54.1259, -115.66987, 54.1259]   \n",
       "4     [-113.939095, 53.549248, -113.939095, 53.549248]   \n",
       "...                                                ...   \n",
       "2244    [-73.240116, 45.452318, -73.240116, 45.452318]   \n",
       "2245      [-80.28766, 43.529453, -80.28766, 43.529453]   \n",
       "2246          [-124.5583, 49.8875, -124.5583, 49.8875]   \n",
       "2247            [-66.6475, 45.9578, -66.6475, 45.9578]   \n",
       "2248        [-73.57176, 45.54271, -73.57176, 45.54271]   \n",
       "\n",
       "                                          manufacturers  \n",
       "0     [{'modelName': 'PurpleAir Sensor', 'manufactur...  \n",
       "1     [{'modelName': 'PurpleAir Sensor', 'manufactur...  \n",
       "2     [{'modelName': 'PurpleAir Sensor', 'manufactur...  \n",
       "3     [{'modelName': 'PurpleAir Sensor', 'manufactur...  \n",
       "4     [{'modelName': 'PurpleAir Sensor', 'manufactur...  \n",
       "...                                                 ...  \n",
       "2244  [{'modelName': 'Government Monitor', 'manufact...  \n",
       "2245  [{'modelName': 'PurpleAir Sensor', 'manufactur...  \n",
       "2246  [{'modelName': 'Government Monitor', 'manufact...  \n",
       "2247  [{'modelName': 'Government Monitor', 'manufact...  \n",
       "2248  [{'modelName': 'Government Monitor', 'manufact...  \n",
       "\n",
       "[2249 rows x 16 columns]"
      ]
     },
     "execution_count": 146,
     "metadata": {},
     "output_type": "execute_result"
    }
   ],
   "source": [
    "locs"
   ]
  },
  {
   "cell_type": "code",
   "execution_count": 99,
   "id": "9f672259-5cdf-445f-b67d-0b65d4016fc1",
   "metadata": {
    "tags": []
   },
   "outputs": [],
   "source": [
    "locs = unpack(locs, \"coordinates\")\n",
    "locs = unpack(locs, \"manufacturers\")\n",
    "\n"
   ]
  },
  {
   "cell_type": "code",
   "execution_count": 243,
   "id": "d744ba3e-d36f-4117-986b-40be227d3f20",
   "metadata": {
    "tags": []
   },
   "outputs": [],
   "source": [
    "class CustomException(Exception):\n",
    "    pass\n",
    "\n",
    "\n",
    "def get_measument_per_location(locations_id, limit = 1000):\n",
    "    #time.sleep(1)\n",
    "    if(limit != 1000):\n",
    "        print(\"Warning, it's possible that this function only works with max limit 1000, and behaves weirdly otherwise\")\n",
    "        \n",
    "    url = f\"https://api.openaq.org/v2/averages?parameters_id=2&date_to=2023-09-30T00%3A00%3A00&date_from=2023-05-01T00%3A00%3A00&country=CA&locations_id={locations_id}&limit=1&page=1\"\n",
    "\n",
    "    headers = {\"accept\": \"application/json\"}\n",
    "\n",
    "    response = requests.get(url, headers=headers)\n",
    "    \n",
    "    if(response.status_code != 200):\n",
    "        print(response.text)\n",
    "        if(response.status_code == 429):\n",
    "            return(None)\n",
    "            #time.sleep(300)\n",
    "        \n",
    "\n",
    "    test = response.json()\n",
    "    \n",
    "    \n",
    "    \n",
    "    \n",
    "    #list_of_locations = pd.DataFrame(test['results'])\n",
    "    #tmp_frame = pd.DataFrame(test['results'])\n",
    "    \n",
    "    #list_of_locations = []\n",
    "    \n",
    "    df_raw = pd.DataFrame()\n",
    "    if(test['meta']['found'] == 0):\n",
    "        print(test)\n",
    "        print(\"no entries found for id\", locations_id)\n",
    "        raise CustomException(\" \")\n",
    "    page = 1\n",
    "    while ((test['meta']['found'] != 0)):\n",
    "        #time.sleep(1)\n",
    "        #print(page)\n",
    "        url = f\"https://api.openaq.org/v2/averages?parameters_id=2&date_to=2023-09-30T00%3A00%3A00&date_from=2023-05-01T00%3A00%3A00&country=CA&locations_id={locations_id}&limit=1000&page={page}\"\n",
    "        response2 = requests.get(url, headers=headers)\n",
    "        if(response2.status_code != 200):\n",
    "            print(response2.text)\n",
    "            if(response2.status_code == 429):\n",
    "                return(None)\n",
    "               # time.sleep(300)\n",
    "        test = response2.json()\n",
    "        \n",
    "        #print(test['meta']['found'])\n",
    "        tmp_frame = pd.DataFrame(test['results'])\n",
    "        #print(tmp_frame)\n",
    "        df_raw = pd.concat([ df_raw,  tmp_frame], ignore_index = True, sort = False)\n",
    "        page = page + 1\n",
    "        \n",
    "        \n",
    "    return(df_raw)"
   ]
  },
  {
   "cell_type": "code",
   "execution_count": 495,
   "id": "3630c3a8-ea38-49fc-ac64-a94696524a05",
   "metadata": {
    "tags": []
   },
   "outputs": [],
   "source": [
    "url = \"https://api.openaq.org/v2/averages?parameters_id=2&date_to=2023-09-30T00%3A00%3A00&date_from=2023-05-01T00%3A00%3A00&country=CA&locations_id=67077&limit=1000&page=5\"\n",
    "\n",
    "headers = {\"accept\": \"application/json\"}\n",
    "\n",
    "response = requests.get(url, headers=headers)\n",
    "\n",
    "test = response.json()\n",
    "#print(test)\n",
    "output = pd.DataFrame(test['results'])"
   ]
  },
  {
   "cell_type": "code",
   "execution_count": 496,
   "id": "14f66818-f49a-4722-bb20-7c98420b177c",
   "metadata": {
    "tags": []
   },
   "outputs": [
    {
     "data": {
      "text/plain": [
       "0"
      ]
     },
     "execution_count": 496,
     "metadata": {},
     "output_type": "execute_result"
    }
   ],
   "source": [
    "test['meta']['found']"
   ]
  },
  {
   "cell_type": "code",
   "execution_count": 239,
   "id": "8874064d-ff0f-4ef6-9624-9b7148f09e0a",
   "metadata": {
    "tags": []
   },
   "outputs": [],
   "source": [
    "sample_df = get_measument_per_location(locations_id = \"67077\")"
   ]
  },
  {
   "cell_type": "code",
   "execution_count": 241,
   "id": "752644cb-3152-4ffe-a522-35306521ce74",
   "metadata": {
    "tags": []
   },
   "outputs": [],
   "source": [
    "#sample_df"
   ]
  },
  {
   "cell_type": "code",
   "execution_count": null,
   "id": "5976a170-54bd-455d-b42b-75e0c77c209c",
   "metadata": {
    "tags": []
   },
   "outputs": [
    {
     "name": "stdout",
     "output_type": "stream",
     "text": [
      "Error at ID:  1147009\n",
      "'results'\n",
      "Error at ID:  224115\n",
      "'meta'\n",
      "Error at ID:  62393\n",
      "'results'\n",
      "Error at ID:  63691\n",
      "'meta'\n",
      "Error at ID:  363787\n",
      "'results'\n",
      "Error at ID:  346440\n",
      "'meta'\n",
      "Error at ID:  663651\n",
      "'results'\n",
      "Error at ID:  236365\n",
      "'meta'\n",
      "Error at ID:  1698008\n",
      "'meta'\n",
      "Error at ID:  70701\n",
      "'meta'\n"
     ]
    }
   ],
   "source": [
    "\n",
    "# ids = locs.id.unique()\n",
    "\n",
    "# all_measurments = pd.DataFrame()\n",
    "\n",
    "\n",
    "# for n,i in enumerate(ids, start = 0):\n",
    "#     try:\n",
    "#         foo = get_measument_per_location(i)\n",
    "#     except Exception as e:\n",
    "#         print(\"Error at ID: \",i)\n",
    "#         print(e)\n",
    "#         continue\n",
    "#     ## Extract the period between \n",
    "#     all_measurments = pd.concat([all_measurments, foo])\n",
    "#     #print(fires)\n",
    "#         #fr_pd = pd.DataFrame(fires, columns=[\"lat\", \"lon\", \"farea\", \"data_source\"])\n",
    "#     all_measurments.to_csv(\"/projects/old_shared/Smoke_over_Canada_2023/openAQ_measurements/\" + str(date.today().strftime(\"%Y%m%d\"))+  \".csv\")"
   ]
  },
  {
   "cell_type": "code",
   "execution_count": 163,
   "id": "387d4ba8-4399-4987-8d1b-b70f76e1d7a4",
   "metadata": {},
   "outputs": [],
   "source": [
    "## Check file to see if it processed all the IDS. If not, subset to missing IDs and try again. \n",
    "\n",
    "sensors = pd.read_csv(\"/projects/old_shared/Smoke_over_Canada_2023/openAQ_measurements/20240125.csv\")\n",
    "sensors2 = pd.read_csv(\"/projects/old_shared/Smoke_over_Canada_2023/openAQ_measurements/20240126.csv\")\n",
    "sensor3 = pd.read_csv(\"/projects/old_shared/Smoke_over_Canada_2023/openAQ_measurements/20240129.csv\")\n",
    "sensor4 = pd.read_csv(\"/projects/old_shared/Smoke_over_Canada_2023/openAQ_measurements/20240130.csv\")"
   ]
  },
  {
   "cell_type": "code",
   "execution_count": 164,
   "id": "ddac5c5e-b332-4796-b96d-cecfe4df34e8",
   "metadata": {},
   "outputs": [],
   "source": [
    "print(len(sensors.id.unique())) ## Doesn't have all the IDS\n",
    "print(len(sensors2.id.unique()))\n",
    "print(len(sensor3.id.unique()))\n",
    "print(len(sensor4.id.unique()))\n",
    "print(len(sensors.id.unique()) + len(sensors2.id.unique()) + len(sensor3.id.unique()))"
   ]
  },
  {
   "cell_type": "code",
   "execution_count": 169,
   "id": "4c2695ba-a8e5-44f5-a31b-658847b59ffe",
   "metadata": {},
   "outputs": [
    {
     "name": "stdout",
     "output_type": "stream",
     "text": [
      "[487 287 394 429 468 476]\n",
      "[ 487  287  394  429  468  476  477  481  748  749 8132  482]\n"
     ]
    }
   ],
   "source": [
    "print(sensor4.id.unique())\n",
    "print(sensor3.id.unique())"
   ]
  },
  {
   "cell_type": "code",
   "execution_count": 171,
   "id": "9a09e73d-776a-403b-a086-fd3de70a6e80",
   "metadata": {},
   "outputs": [
    {
     "name": "stdout",
     "output_type": "stream",
     "text": [
      "662\n"
     ]
    }
   ],
   "source": [
    "ids = locs.id[~locs.id.isin([*sensors.id.unique(), *sensors2.id.unique(), *sensor3.id.unique(), *sensor4.id.unique() ])]\n",
    "\n",
    "print(len(ids))"
   ]
  },
  {
   "cell_type": "code",
   "execution_count": 246,
   "id": "8201c4a8-d35c-4f25-9ce7-dc92324834b5",
   "metadata": {},
   "outputs": [],
   "source": [
    "### Check just on the IDS where there is temporal overlap \n",
    "\n",
    "sub_missing_ids = locs_time.id[~locs_time.id.isin([*sensors.id.unique(), *sensors2.id.unique(), *sensor3.id.unique(), *sensor4.id.unique()])]\n",
    "sub_missing_ids"
   ]
  },
  {
   "cell_type": "code",
   "execution_count": 258,
   "id": "f9b28f97-52b1-4d58-ba6f-fe65e5fd23fa",
   "metadata": {},
   "outputs": [
    {
     "data": {
      "text/plain": [
       "16       383253\n",
       "29       223021\n",
       "116      399197\n",
       "145      635630\n",
       "163     1820911\n",
       "196      635693\n",
       "205      496097\n",
       "213      382795\n",
       "224      635657\n",
       "259     1996960\n",
       "297     1587066\n",
       "345      357871\n",
       "396      383355\n",
       "523     1697838\n",
       "525      369083\n",
       "566      635599\n",
       "573      575866\n",
       "637     1966742\n",
       "689      496080\n",
       "700       73749\n",
       "709      635710\n",
       "748     1957158\n",
       "874      375485\n",
       "990        1380\n",
       "1008        744\n",
       "1010        746\n",
       "1019       1380\n",
       "1055        498\n",
       "1056        496\n",
       "1118        741\n",
       "1119        747\n",
       "1251     496046\n",
       "1278     337976\n",
       "1322     275919\n",
       "1335      65050\n",
       "1344      64649\n",
       "1365     339553\n",
       "1395      65043\n",
       "1401    1285714\n",
       "Name: id, dtype: int64"
      ]
     },
     "execution_count": 258,
     "metadata": {},
     "output_type": "execute_result"
    }
   ],
   "source": [
    "sub_missing_ids = locs_time3.id[~locs_time3.id.isin([*sensors.id.unique(), *sensors2.id.unique(), *sensor3.id.unique(), *sensor4.id.unique()])]\n",
    "sub_missing_ids"
   ]
  },
  {
   "cell_type": "code",
   "execution_count": 257,
   "id": "58e4d1df-fa99-4832-8404-207b03b05559",
   "metadata": {},
   "outputs": [
    {
     "data": {
      "text/html": [
       "<div>\n",
       "<style scoped>\n",
       "    .dataframe tbody tr th:only-of-type {\n",
       "        vertical-align: middle;\n",
       "    }\n",
       "\n",
       "    .dataframe tbody tr th {\n",
       "        vertical-align: top;\n",
       "    }\n",
       "\n",
       "    .dataframe thead th {\n",
       "        text-align: right;\n",
       "    }\n",
       "</style>\n",
       "<table border=\"1\" class=\"dataframe\">\n",
       "  <thead>\n",
       "    <tr style=\"text-align: right;\">\n",
       "      <th></th>\n",
       "      <th>id</th>\n",
       "      <th>city</th>\n",
       "      <th>name</th>\n",
       "      <th>entity</th>\n",
       "      <th>country</th>\n",
       "      <th>sources</th>\n",
       "      <th>isMobile</th>\n",
       "      <th>isAnalysis</th>\n",
       "      <th>parameters</th>\n",
       "      <th>sensorType</th>\n",
       "      <th>coordinates</th>\n",
       "      <th>lastUpdated</th>\n",
       "      <th>firstUpdated</th>\n",
       "      <th>measurements</th>\n",
       "      <th>bounds</th>\n",
       "      <th>manufacturers</th>\n",
       "    </tr>\n",
       "  </thead>\n",
       "  <tbody>\n",
       "    <tr>\n",
       "      <th>40</th>\n",
       "      <td>223021</td>\n",
       "      <td>None</td>\n",
       "      <td>Buffalo River Dene Nation - MLTC</td>\n",
       "      <td>None</td>\n",
       "      <td>CA</td>\n",
       "      <td>None</td>\n",
       "      <td>False</td>\n",
       "      <td>None</td>\n",
       "      <td>[{'id': 126, 'unit': 'particles/cm³', 'count':...</td>\n",
       "      <td>None</td>\n",
       "      <td>{'latitude': 55.92818, 'longitude': -108.92564}</td>\n",
       "      <td>2024-01-29T20:33:57+00:00</td>\n",
       "      <td>2021-03-22T21:47:42+00:00</td>\n",
       "      <td>425484</td>\n",
       "      <td>[-108.92564, 55.92818, -108.92564, 55.92818]</td>\n",
       "      <td>[{'modelName': 'PurpleAir Sensor', 'manufactur...</td>\n",
       "    </tr>\n",
       "  </tbody>\n",
       "</table>\n",
       "</div>"
      ],
      "text/plain": [
       "        id  city                              name entity country sources  \\\n",
       "40  223021  None  Buffalo River Dene Nation - MLTC   None      CA    None   \n",
       "\n",
       "    isMobile isAnalysis                                         parameters  \\\n",
       "40     False       None  [{'id': 126, 'unit': 'particles/cm³', 'count':...   \n",
       "\n",
       "   sensorType                                      coordinates  \\\n",
       "40       None  {'latitude': 55.92818, 'longitude': -108.92564}   \n",
       "\n",
       "                  lastUpdated               firstUpdated  measurements  \\\n",
       "40  2024-01-29T20:33:57+00:00  2021-03-22T21:47:42+00:00        425484   \n",
       "\n",
       "                                          bounds  \\\n",
       "40  [-108.92564, 55.92818, -108.92564, 55.92818]   \n",
       "\n",
       "                                        manufacturers  \n",
       "40  [{'modelName': 'PurpleAir Sensor', 'manufactur...  "
      ]
     },
     "execution_count": 257,
     "metadata": {},
     "output_type": "execute_result"
    }
   ],
   "source": [
    "locs_time[locs_time.id == 223021]"
   ]
  },
  {
   "cell_type": "code",
   "execution_count": 260,
   "id": "b0a262e2-e2b2-4aa4-b9af-d4edaadecd9c",
   "metadata": {},
   "outputs": [
    {
     "name": "stdout",
     "output_type": "stream",
     "text": [
      "{'meta': {'name': 'openaq-api', 'license': '', 'website': '/', 'page': 1, 'limit': 1, 'found': 0}, 'results': []}\n",
      "no entries found for id 383253\n"
     ]
    },
    {
     "ename": "CustomException",
     "evalue": " ",
     "output_type": "error",
     "traceback": [
      "\u001b[0;31m---------------------------------------------------------------------------\u001b[0m",
      "\u001b[0;31mCustomException\u001b[0m                           Traceback (most recent call last)",
      "Cell \u001b[0;32mIn [260], line 1\u001b[0m\n\u001b[0;32m----> 1\u001b[0m get_measument_per_location(locations_id \u001b[38;5;241m=\u001b[39m \u001b[38;5;241m383253\u001b[39m)\n",
      "Cell \u001b[0;32mIn [243], line 37\u001b[0m, in \u001b[0;36mget_measument_per_location\u001b[0;34m(locations_id, limit)\u001b[0m\n\u001b[1;32m     35\u001b[0m     \u001b[38;5;28mprint\u001b[39m(test)\n\u001b[1;32m     36\u001b[0m     \u001b[38;5;28mprint\u001b[39m(\u001b[38;5;124m\"\u001b[39m\u001b[38;5;124mno entries found for id\u001b[39m\u001b[38;5;124m\"\u001b[39m, locations_id)\n\u001b[0;32m---> 37\u001b[0m     \u001b[38;5;28;01mraise\u001b[39;00m CustomException(\u001b[38;5;124m\"\u001b[39m\u001b[38;5;124m \u001b[39m\u001b[38;5;124m\"\u001b[39m)\n\u001b[1;32m     38\u001b[0m page \u001b[38;5;241m=\u001b[39m \u001b[38;5;241m1\u001b[39m\n\u001b[1;32m     39\u001b[0m \u001b[38;5;28;01mwhile\u001b[39;00m ((test[\u001b[38;5;124m'\u001b[39m\u001b[38;5;124mmeta\u001b[39m\u001b[38;5;124m'\u001b[39m][\u001b[38;5;124m'\u001b[39m\u001b[38;5;124mfound\u001b[39m\u001b[38;5;124m'\u001b[39m] \u001b[38;5;241m!=\u001b[39m \u001b[38;5;241m0\u001b[39m)):\n\u001b[1;32m     40\u001b[0m     \u001b[38;5;66;03m#time.sleep(1)\u001b[39;00m\n\u001b[1;32m     41\u001b[0m     \u001b[38;5;66;03m#print(page)\u001b[39;00m\n",
      "\u001b[0;31mCustomException\u001b[0m:  "
     ]
    }
   ],
   "source": [
    "get_measument_per_location(locations_id = 383253)"
   ]
  },
  {
   "cell_type": "code",
   "execution_count": 265,
   "id": "b060463a-913e-4f5b-a67c-dc0fafcde2dc",
   "metadata": {},
   "outputs": [
    {
     "name": "stdout",
     "output_type": "stream",
     "text": [
      "n = 0\n",
      "{'meta': {'name': 'openaq-api', 'license': '', 'website': '/', 'page': 1, 'limit': 1, 'found': 0}, 'results': []}\n",
      "no entries found for id 383253\n",
      "{'meta': {'name': 'openaq-api', 'license': '', 'website': '/', 'page': 1, 'limit': 1, 'found': 0}, 'results': []}\n",
      "no entries found for id 223021\n",
      "{'meta': {'name': 'openaq-api', 'license': '', 'website': '/', 'page': 1, 'limit': 1, 'found': 0}, 'results': []}\n",
      "no entries found for id 399197\n",
      "{'meta': {'name': 'openaq-api', 'license': '', 'website': '/', 'page': 1, 'limit': 1, 'found': 0}, 'results': []}\n",
      "no entries found for id 635630\n",
      "{'meta': {'name': 'openaq-api', 'license': '', 'website': '/', 'page': 1, 'limit': 1, 'found': 0}, 'results': []}\n",
      "no entries found for id 1820911\n",
      "{'meta': {'name': 'openaq-api', 'license': '', 'website': '/', 'page': 1, 'limit': 1, 'found': 0}, 'results': []}\n",
      "no entries found for id 635693\n",
      "{'meta': {'name': 'openaq-api', 'license': '', 'website': '/', 'page': 1, 'limit': 1, 'found': 0}, 'results': []}\n",
      "no entries found for id 496097\n",
      "{'meta': {'name': 'openaq-api', 'license': '', 'website': '/', 'page': 1, 'limit': 1, 'found': 0}, 'results': []}\n",
      "no entries found for id 382795\n",
      "{'meta': {'name': 'openaq-api', 'license': '', 'website': '/', 'page': 1, 'limit': 1, 'found': 0}, 'results': []}\n",
      "no entries found for id 635657\n",
      "{'meta': {'name': 'openaq-api', 'license': '', 'website': '/', 'page': 1, 'limit': 1, 'found': 0}, 'results': []}\n",
      "no entries found for id 1996960\n",
      "{'meta': {'name': 'openaq-api', 'license': '', 'website': '/', 'page': 1, 'limit': 1, 'found': 0}, 'results': []}\n",
      "no entries found for id 1587066\n",
      "{'meta': {'name': 'openaq-api', 'license': '', 'website': '/', 'page': 1, 'limit': 1, 'found': 0}, 'results': []}\n",
      "no entries found for id 357871\n",
      "{'meta': {'name': 'openaq-api', 'license': '', 'website': '/', 'page': 1, 'limit': 1, 'found': 0}, 'results': []}\n",
      "no entries found for id 383355\n",
      "{'meta': {'name': 'openaq-api', 'license': '', 'website': '/', 'page': 1, 'limit': 1, 'found': 0}, 'results': []}\n",
      "no entries found for id 1697838\n",
      "{'meta': {'name': 'openaq-api', 'license': '', 'website': '/', 'page': 1, 'limit': 1, 'found': 0}, 'results': []}\n",
      "no entries found for id 369083\n",
      "{'meta': {'name': 'openaq-api', 'license': '', 'website': '/', 'page': 1, 'limit': 1, 'found': 0}, 'results': []}\n",
      "no entries found for id 635599\n",
      "{'meta': {'name': 'openaq-api', 'license': '', 'website': '/', 'page': 1, 'limit': 1, 'found': 0}, 'results': []}\n",
      "no entries found for id 575866\n",
      "{'meta': {'name': 'openaq-api', 'license': '', 'website': '/', 'page': 1, 'limit': 1, 'found': 0}, 'results': []}\n",
      "no entries found for id 1966742\n",
      "{'meta': {'name': 'openaq-api', 'license': '', 'website': '/', 'page': 1, 'limit': 1, 'found': 0}, 'results': []}\n",
      "no entries found for id 496080\n",
      "{'meta': {'name': 'openaq-api', 'license': '', 'website': '/', 'page': 1, 'limit': 1, 'found': 0}, 'results': []}\n",
      "no entries found for id 73749\n",
      "{'meta': {'name': 'openaq-api', 'license': '', 'website': '/', 'page': 1, 'limit': 1, 'found': 0}, 'results': []}\n",
      "no entries found for id 635710\n",
      "{'meta': {'name': 'openaq-api', 'license': '', 'website': '/', 'page': 1, 'limit': 1, 'found': 0}, 'results': []}\n",
      "no entries found for id 1957158\n",
      "{'meta': {'name': 'openaq-api', 'license': '', 'website': '/', 'page': 1, 'limit': 1, 'found': 0}, 'results': []}\n",
      "no entries found for id 375485\n",
      "{'meta': {'name': 'openaq-api', 'license': '', 'website': '/', 'page': 1, 'limit': 1, 'found': 0}, 'results': []}\n",
      "no entries found for id 1380\n",
      "{'meta': {'name': 'openaq-api', 'license': '', 'website': '/', 'page': 1, 'limit': 1, 'found': 0}, 'results': []}\n",
      "no entries found for id 1380\n",
      "{'meta': {'name': 'openaq-api', 'license': '', 'website': '/', 'page': 1, 'limit': 1, 'found': 0}, 'results': []}\n",
      "no entries found for id 496046\n",
      "{'meta': {'name': 'openaq-api', 'license': '', 'website': '/', 'page': 1, 'limit': 1, 'found': 0}, 'results': []}\n",
      "no entries found for id 337976\n",
      "{'meta': {'name': 'openaq-api', 'license': '', 'website': '/', 'page': 1, 'limit': 1, 'found': 0}, 'results': []}\n",
      "no entries found for id 275919\n",
      "{'meta': {'name': 'openaq-api', 'license': '', 'website': '/', 'page': 1, 'limit': 1, 'found': 0}, 'results': []}\n",
      "no entries found for id 65050\n",
      "{'meta': {'name': 'openaq-api', 'license': '', 'website': '/', 'page': 1, 'limit': 1, 'found': 0}, 'results': []}\n",
      "no entries found for id 64649\n",
      "{'meta': {'name': 'openaq-api', 'license': '', 'website': '/', 'page': 1, 'limit': 1, 'found': 0}, 'results': []}\n",
      "no entries found for id 339553\n",
      "{'meta': {'name': 'openaq-api', 'license': '', 'website': '/', 'page': 1, 'limit': 1, 'found': 0}, 'results': []}\n",
      "no entries found for id 65043\n",
      "{'meta': {'name': 'openaq-api', 'license': '', 'website': '/', 'page': 1, 'limit': 1, 'found': 0}, 'results': []}\n",
      "no entries found for id 1285714\n"
     ]
    }
   ],
   "source": [
    "all_measurments = pd.DataFrame()\n",
    "no_entries_id = list()\n",
    "ids\n",
    "\n",
    "for n,i in enumerate(sub_missing_ids, start = 0):\n",
    "    if(n == 0):\n",
    "        print(\"n = 0\")\n",
    "    elif((n%150) == 0):\n",
    "        time.sleep(150)\n",
    "    try:\n",
    "        foo = get_measument_per_location(i)\n",
    "    except CustomException as e:\n",
    "        no_entries_id.append(i)\n",
    "        \n",
    "    except Exception as e:\n",
    "        print(\"Error at ID: \",i)\n",
    "        print(e)\n",
    "        continue\n",
    "    ## Extract the period between \n",
    "    all_measurments = pd.concat([all_measurments, foo])\n",
    "    #print(fires)\n",
    "        #fr_pd = pd.DataFrame(fires, columns=[\"lat\", \"lon\", \"farea\", \"data_source\"])\n",
    "    all_measurments.to_csv(\"/projects/old_shared/Smoke_over_Canada_2023/openAQ_measurements/\" + str(date.today().strftime(\"%Y%m%d\"))+  \".csv\")\n",
    "    tmp_df = pd.DataFrame(no_entries_id, columns= [\"none_found\"])\n",
    "    tmp_df.to_csv(\"/projects/old_shared/Smoke_over_Canada_2023/openAQ_measurements/\" + \"missing_ids\"+ str(date.today().strftime(\"%Y%m%d\"))+  \".csv\")\n",
    "    \n",
    "    "
   ]
  },
  {
   "cell_type": "code",
   "execution_count": 264,
   "id": "84bfd409-f77c-4d6e-92c0-40690a644db5",
   "metadata": {},
   "outputs": [
    {
     "data": {
      "text/html": [
       "<div>\n",
       "<style scoped>\n",
       "    .dataframe tbody tr th:only-of-type {\n",
       "        vertical-align: middle;\n",
       "    }\n",
       "\n",
       "    .dataframe tbody tr th {\n",
       "        vertical-align: top;\n",
       "    }\n",
       "\n",
       "    .dataframe thead th {\n",
       "        text-align: right;\n",
       "    }\n",
       "</style>\n",
       "<table border=\"1\" class=\"dataframe\">\n",
       "  <thead>\n",
       "    <tr style=\"text-align: right;\">\n",
       "      <th></th>\n",
       "      <th>none_found</th>\n",
       "    </tr>\n",
       "  </thead>\n",
       "  <tbody>\n",
       "    <tr>\n",
       "      <th>0</th>\n",
       "      <td>383253</td>\n",
       "    </tr>\n",
       "    <tr>\n",
       "      <th>1</th>\n",
       "      <td>223021</td>\n",
       "    </tr>\n",
       "    <tr>\n",
       "      <th>2</th>\n",
       "      <td>399197</td>\n",
       "    </tr>\n",
       "    <tr>\n",
       "      <th>3</th>\n",
       "      <td>635630</td>\n",
       "    </tr>\n",
       "    <tr>\n",
       "      <th>4</th>\n",
       "      <td>1820911</td>\n",
       "    </tr>\n",
       "    <tr>\n",
       "      <th>5</th>\n",
       "      <td>635693</td>\n",
       "    </tr>\n",
       "    <tr>\n",
       "      <th>6</th>\n",
       "      <td>496097</td>\n",
       "    </tr>\n",
       "    <tr>\n",
       "      <th>7</th>\n",
       "      <td>382795</td>\n",
       "    </tr>\n",
       "    <tr>\n",
       "      <th>8</th>\n",
       "      <td>635657</td>\n",
       "    </tr>\n",
       "    <tr>\n",
       "      <th>9</th>\n",
       "      <td>1996960</td>\n",
       "    </tr>\n",
       "    <tr>\n",
       "      <th>10</th>\n",
       "      <td>1587066</td>\n",
       "    </tr>\n",
       "    <tr>\n",
       "      <th>11</th>\n",
       "      <td>357871</td>\n",
       "    </tr>\n",
       "    <tr>\n",
       "      <th>12</th>\n",
       "      <td>383355</td>\n",
       "    </tr>\n",
       "    <tr>\n",
       "      <th>13</th>\n",
       "      <td>1697838</td>\n",
       "    </tr>\n",
       "    <tr>\n",
       "      <th>14</th>\n",
       "      <td>369083</td>\n",
       "    </tr>\n",
       "    <tr>\n",
       "      <th>15</th>\n",
       "      <td>635599</td>\n",
       "    </tr>\n",
       "    <tr>\n",
       "      <th>16</th>\n",
       "      <td>575866</td>\n",
       "    </tr>\n",
       "    <tr>\n",
       "      <th>17</th>\n",
       "      <td>1966742</td>\n",
       "    </tr>\n",
       "    <tr>\n",
       "      <th>18</th>\n",
       "      <td>496080</td>\n",
       "    </tr>\n",
       "    <tr>\n",
       "      <th>19</th>\n",
       "      <td>73749</td>\n",
       "    </tr>\n",
       "    <tr>\n",
       "      <th>20</th>\n",
       "      <td>635710</td>\n",
       "    </tr>\n",
       "    <tr>\n",
       "      <th>21</th>\n",
       "      <td>1957158</td>\n",
       "    </tr>\n",
       "    <tr>\n",
       "      <th>22</th>\n",
       "      <td>375485</td>\n",
       "    </tr>\n",
       "    <tr>\n",
       "      <th>23</th>\n",
       "      <td>1380</td>\n",
       "    </tr>\n",
       "    <tr>\n",
       "      <th>24</th>\n",
       "      <td>1380</td>\n",
       "    </tr>\n",
       "    <tr>\n",
       "      <th>25</th>\n",
       "      <td>496046</td>\n",
       "    </tr>\n",
       "    <tr>\n",
       "      <th>26</th>\n",
       "      <td>337976</td>\n",
       "    </tr>\n",
       "    <tr>\n",
       "      <th>27</th>\n",
       "      <td>275919</td>\n",
       "    </tr>\n",
       "    <tr>\n",
       "      <th>28</th>\n",
       "      <td>65050</td>\n",
       "    </tr>\n",
       "    <tr>\n",
       "      <th>29</th>\n",
       "      <td>64649</td>\n",
       "    </tr>\n",
       "    <tr>\n",
       "      <th>30</th>\n",
       "      <td>339553</td>\n",
       "    </tr>\n",
       "    <tr>\n",
       "      <th>31</th>\n",
       "      <td>65043</td>\n",
       "    </tr>\n",
       "    <tr>\n",
       "      <th>32</th>\n",
       "      <td>1285714</td>\n",
       "    </tr>\n",
       "  </tbody>\n",
       "</table>\n",
       "</div>"
      ],
      "text/plain": [
       "    none_found\n",
       "0       383253\n",
       "1       223021\n",
       "2       399197\n",
       "3       635630\n",
       "4      1820911\n",
       "5       635693\n",
       "6       496097\n",
       "7       382795\n",
       "8       635657\n",
       "9      1996960\n",
       "10     1587066\n",
       "11      357871\n",
       "12      383355\n",
       "13     1697838\n",
       "14      369083\n",
       "15      635599\n",
       "16      575866\n",
       "17     1966742\n",
       "18      496080\n",
       "19       73749\n",
       "20      635710\n",
       "21     1957158\n",
       "22      375485\n",
       "23        1380\n",
       "24        1380\n",
       "25      496046\n",
       "26      337976\n",
       "27      275919\n",
       "28       65050\n",
       "29       64649\n",
       "30      339553\n",
       "31       65043\n",
       "32     1285714"
      ]
     },
     "execution_count": 264,
     "metadata": {},
     "output_type": "execute_result"
    }
   ],
   "source": []
  },
  {
   "cell_type": "code",
   "execution_count": 228,
   "id": "e6d342a4-fd2e-43f5-863f-58f8fd808b4d",
   "metadata": {},
   "outputs": [
    {
     "name": "stdout",
     "output_type": "stream",
     "text": [
      "Length of missing IDS 662\n",
      "Lenght of IDS where no entries were found 87\n",
      "diff 575\n"
     ]
    }
   ],
   "source": [
    "print(\"Length of missing IDS\", len(ids))\n",
    "\n",
    "print(\"Lenght of IDS where no entries were found\", len(no_entries_id))\n",
    "\n",
    "print(\"diff\", (len(ids) - len(no_entries_id)))"
   ]
  },
  {
   "cell_type": "code",
   "execution_count": 224,
   "id": "0ffb312f-777e-4a00-997b-d27cae2aedb2",
   "metadata": {},
   "outputs": [
    {
     "name": "stdout",
     "output_type": "stream",
     "text": [
      "2232\n",
      "Length of missing IDS 662\n",
      "Lenght of IDS where no entries were found 512\n",
      "diff 150\n"
     ]
    }
   ],
   "source": [
    "ids = locs.id[~locs.id.isin([*sensors.id.unique(), *sensors2.id.unique(), *sensor3.id.unique(), *sensor4.id.unique() ])]\n",
    "\n",
    "print(len(locs.id.unique()))\n",
    "\n",
    "\n",
    "\n",
    "print(\"Length of missing IDS\", len(ids))\n",
    "\n",
    "print(\"Lenght of IDS where no entries were found\", len(no_entries_id))\n",
    "\n",
    "print(\"diff\", (len(ids) - len(no_entries_id)))\n",
    "\n",
    "\n",
    "ids2 = locs.id[~locs.id.isin([*sensors.id.unique(), *sensors2.id.unique(), *sensor3.id.unique(), *sensor4.id.unique(), *no_entries_id])]"
   ]
  },
  {
   "cell_type": "code",
   "execution_count": 563,
   "id": "f1631936-8f63-4627-8bff-5320822550c1",
   "metadata": {},
   "outputs": [],
   "source": [
    "#1790156 #1481833\n",
    "    \n",
    "locations_id = 1790156\n",
    "    \n",
    "#get_measument_per_location(\"1481833\")\n",
    "\n",
    "url = f\"https://api.openaq.org/v2/averages?parameters_id=2&date_to=2023-09-30T00%3A00%3A00&date_from=2023-05-01T00%3A00%3A00&country=CA&locations_id={locations_id}&limit=1000&page=1\"\n",
    "\n",
    "headers = {\"accept\": \"application/json\"}\n",
    "\n",
    "response = requests.get(url, headers=headers)\n",
    "\n",
    "test = response.json()\n",
    "    "
   ]
  },
  {
   "cell_type": "code",
   "execution_count": 567,
   "id": "2a9f52e4-eb1d-4e7f-95fe-235c4c7ca8f7",
   "metadata": {},
   "outputs": [
    {
     "data": {
      "text/plain": [
       "'{\"message\":\"Too many requests\"}'"
      ]
     },
     "execution_count": 567,
     "metadata": {},
     "output_type": "execute_result"
    }
   ],
   "source": [
    "response.text"
   ]
  },
  {
   "cell_type": "code",
   "execution_count": null,
   "id": "a067013b-143a-4997-a513-7dc44de46995",
   "metadata": {},
   "outputs": [],
   "source": [
    "   \n",
    "    ## List of measurements\n",
    "    \n",
    "url = \"https://api.openaq.org/v2/measurements?date_from=2024-01-03T00%3A00%3A00Z&date_to=2024-01-10T15%3A53%3A00Z&limit=100&page=1&offset=0&sort=desc&radius=1000&order_by=datetime\"\n",
    "\n",
    "headers = {\"accept\": \"application/json\"}\n",
    "\n",
    "response = requests.get(url, headers=headers)\n",
    "\n",
    "print(response.text)"
   ]
  },
  {
   "cell_type": "code",
   "execution_count": 75,
   "id": "bcd56f7c-ba4b-4daf-9ded-7413c00a2081",
   "metadata": {
    "tags": []
   },
   "outputs": [
    {
     "ename": "TypeError",
     "evalue": "string indices must be integers, not 'str'",
     "output_type": "error",
     "traceback": [
      "\u001b[0;31m---------------------------------------------------------------------------\u001b[0m",
      "\u001b[0;31mTypeError\u001b[0m                                 Traceback (most recent call last)",
      "Cell \u001b[0;32mIn [75], line 11\u001b[0m\n\u001b[1;32m      8\u001b[0m response \u001b[38;5;241m=\u001b[39m requests\u001b[38;5;241m.\u001b[39mget(url, headers\u001b[38;5;241m=\u001b[39mheaders)\n\u001b[1;32m     10\u001b[0m test \u001b[38;5;241m=\u001b[39m response\u001b[38;5;241m.\u001b[39mjson()\n\u001b[0;32m---> 11\u001b[0m measurements \u001b[38;5;241m=\u001b[39m pd\u001b[38;5;241m.\u001b[39mDataFrame(test[\u001b[38;5;124m'\u001b[39m\u001b[38;5;124mresults\u001b[39m\u001b[38;5;124m'\u001b[39m])\n",
      "\u001b[0;31mTypeError\u001b[0m: string indices must be integers, not 'str'"
     ]
    }
   ],
   "source": [
    "url = \"https://api.openaq.org/v2/measurements?date_from=2023-05-01T00%3A00%3A00&date_to=2023-09-30T00%3A00%3A00&limit=7000&page=50&offset=0&sort=desc&has_geo=true&parameter_id=2&radius=1000&country=CA&order_by=datetime&entity=null\"\n",
    "\n",
    "headers = {\"accept\": \"application/json\"}\n",
    "\n",
    "response = requests.get(url, headers=headers)\n",
    "\n",
    "test = response.json()\n",
    "measurements = pd.DataFrame(test['results'])"
   ]
  },
  {
   "cell_type": "code",
   "execution_count": 437,
   "id": "e61c66e7-1bfc-4ffc-9f4a-b58875f877d7",
   "metadata": {
    "tags": []
   },
   "outputs": [],
   "source": [
    "url = \"https://api.openaq.org/v2/averages?parameters_id=2&date_to=2023-09-30T00%3A00%3A00&date_from=2023-05-01T00%3A00%3A00&country=CA&locations_id=65422&limit=1000&page=1\"\n",
    "\n",
    "headers = {\"accept\": \"application/json\"}\n",
    "\n",
    "response = requests.get(url, headers=headers)\n",
    "\n",
    "test = response.json()\n",
    "output = pd.DataFrame(test['results'])"
   ]
  },
  {
   "cell_type": "code",
   "execution_count": 439,
   "id": "ad348ef5-67d9-4525-aaec-2310fa721019",
   "metadata": {
    "tags": []
   },
   "outputs": [
    {
     "data": {
      "text/plain": [
       "array([65422])"
      ]
     },
     "execution_count": 439,
     "metadata": {},
     "output_type": "execute_result"
    }
   ],
   "source": [
    "output.id.unique()"
   ]
  },
  {
   "cell_type": "code",
   "execution_count": 97,
   "id": "37fef520-d72e-4c96-9eac-a2e53ddb0003",
   "metadata": {
    "tags": []
   },
   "outputs": [
    {
     "data": {
      "text/plain": [
       "array([1304288])"
      ]
     },
     "execution_count": 97,
     "metadata": {},
     "output_type": "execute_result"
    }
   ],
   "source": [
    "output.id.unique()"
   ]
  },
  {
   "cell_type": "code",
   "execution_count": 99,
   "id": "2694261b-eec3-44ea-9d15-fb4d7ed5d2ec",
   "metadata": {
    "tags": []
   },
   "outputs": [
    {
     "data": {
      "text/plain": [
       "{'name': 'openaq-api',\n",
       " 'license': '',\n",
       " 'website': '/',\n",
       " 'page': 1,\n",
       " 'limit': 1000,\n",
       " 'found': '>1000'}"
      ]
     },
     "execution_count": 99,
     "metadata": {},
     "output_type": "execute_result"
    }
   ],
   "source": [
    "test[\"meta\"]"
   ]
  },
  {
   "cell_type": "code",
   "execution_count": 101,
   "id": "5908fdbb-cdbd-4c27-8b89-152a275fe4fb",
   "metadata": {
    "tags": []
   },
   "outputs": [
    {
     "data": {
      "text/plain": [
       "{'detail': [{'type': 'less_than_equal',\n",
       "   'loc': ['query', 'limit'],\n",
       "   'msg': 'Input should be less than or equal to 1000',\n",
       "   'input': 2000,\n",
       "   'ctx': {'le': 1000},\n",
       "   'url': 'https://errors.pydantic.dev/2.1.2/v/less_than_equal'}]}"
      ]
     },
     "execution_count": 101,
     "metadata": {},
     "output_type": "execute_result"
    }
   ],
   "source": [
    "test"
   ]
  },
  {
   "cell_type": "code",
   "execution_count": 545,
   "id": "3bbda714-3504-49ea-a96b-98b9665bf0fb",
   "metadata": {},
   "outputs": [
    {
     "data": {
      "text/plain": [
       "<Axes: >"
      ]
     },
     "execution_count": 545,
     "metadata": {},
     "output_type": "execute_result"
    },
    {
     "data": {
      "image/png": "[encoded data removed]",
      "text/plain": [
       "<Figure size 640x480 with 1 Axes>"
      ]
     },
     "metadata": {},
     "output_type": "display_data"
    }
   ],
   "source": [
    "sensors.hour.astype(\"datetime64[ns, UTC]\").dt.hour.hist()"
   ]
  },
  {
   "cell_type": "code",
   "execution_count": 586,
   "id": "a20e44fc-edde-4db9-a496-a2e81f516a7a",
   "metadata": {
    "tags": []
   },
   "outputs": [
    {
     "data": {
      "text/plain": [
       "<Axes: >"
      ]
     },
     "execution_count": 586,
     "metadata": {},
     "output_type": "execute_result"
    },
    {
     "data": {
      "image/png": "[encoded data removed]",
      "text/plain": [
       "<Figure size 640x480 with 1 Axes>"
      ]
     },
     "metadata": {},
     "output_type": "display_data"
    }
   ],
   "source": [
    "sensors.groupby(\"id\").average.median().hist()"
   ]
  },
  {
   "cell_type": "code",
   "execution_count": null,
   "id": "d2620f83-2f02-4346-bfc7-f6a714bdf20d",
   "metadata": {},
   "outputs": [],
   "source": [
    "### Although it's not all the IDS yet, testing my merge methods with loc\n",
    "useful_columns = [\"id\", \"lastUpdated\" \"firstUpdated\", ]\n",
    "locs"
   ]
  },
  {
   "cell_type": "code",
   "execution_count": 93,
   "id": "772ec23a-f6c1-45f1-bfc0-c86ea9bbc502",
   "metadata": {
    "tags": []
   },
   "outputs": [
    {
     "data": {
      "text/plain": [
       "array([None], dtype=object)"
      ]
     },
     "execution_count": 93,
     "metadata": {},
     "output_type": "execute_result"
    }
   ],
   "source": [
    "locs.sensorType.unique()"
   ]
  },
  {
   "cell_type": "code",
   "execution_count": 230,
   "id": "42757e19-0701-4b84-ba8d-d1f8298d4ba2",
   "metadata": {},
   "outputs": [],
   "source": []
  },
  {
   "cell_type": "code",
   "execution_count": 233,
   "id": "5ca297cd-1900-42f3-8d26-da627cfbf0ce",
   "metadata": {
    "tags": []
   },
   "outputs": [
    {
     "data": {
      "text/plain": [
       "32"
      ]
     },
     "execution_count": 233,
     "metadata": {},
     "output_type": "execute_result"
    }
   ],
   "source": [
    "len(sub_missing_ids)"
   ]
  },
  {
   "cell_type": "code",
   "execution_count": null,
   "id": "76600402-451b-4177-9ba9-06ccfd6f814b",
   "metadata": {},
   "outputs": [],
   "source": []
  }
 ],
 "metadata": {
  "kernelspec": {
   "display_name": "Python (fireatlas_oct4_2)",
   "language": "python",
   "name": "fireatlas_oct4"
  },
  "language_info": {
   "codemirror_mode": {
    "name": "ipython",
    "version": 3
   },
   "file_extension": ".py",
   "mimetype": "text/x-python",
   "name": "python",
   "nbconvert_exporter": "python",
   "pygments_lexer": "ipython3",
   "version": "3.11.7"
  }
 },
 "nbformat": 4,
 "nbformat_minor": 5
}
